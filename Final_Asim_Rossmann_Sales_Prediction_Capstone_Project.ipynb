{
  "nbformat": 4,
  "nbformat_minor": 0,
  "metadata": {
    "kernelspec": {
      "display_name": "Python 3",
      "language": "python",
      "name": "python3"
    },
    "language_info": {
      "codemirror_mode": {
        "name": "ipython",
        "version": 3
      },
      "file_extension": ".py",
      "mimetype": "text/x-python",
      "name": "python",
      "nbconvert_exporter": "python",
      "pygments_lexer": "ipython3",
      "version": "3.6.6"
    },
    "colab": {
      "name": "Final Asim Rossmann Sales Prediction - Capstone Project.ipynb",
      "provenance": [],
      "collapsed_sections": [],
      "include_colab_link": true
    }
  },
  "cells": [
    {
      "cell_type": "markdown",
      "metadata": {
        "id": "view-in-github",
        "colab_type": "text"
      },
      "source": [
        "<a href=\"https://colab.research.google.com/github/asim5800/Retail-Sales-Prediction/blob/main/Final_Asim_Rossmann_Sales_Prediction_Capstone_Project.ipynb\" target=\"_parent\"><img src=\"https://colab.research.google.com/assets/colab-badge.svg\" alt=\"Open In Colab\"/></a>"
      ]
    },
    {
      "cell_type": "markdown",
      "metadata": {
        "id": "tOGC-qoyhJeX"
      },
      "source": [
        "# <b><u> Project Title : Sales Prediction : Predicting sales of a major store chain Rossmann</u></b>"
      ]
    },
    {
      "cell_type": "markdown",
      "metadata": {
        "id": "Y06xIdG26kRF"
      },
      "source": [
        "## <b> Problem Description </b>\n",
        "\n",
        "### Rossmann operates over 3,000 drug stores in 7 European countries. Currently, Rossmann store managers are tasked with predicting their daily sales for up to six weeks in advance. Store sales are influenced by many factors, including promotions, competition, school and state holidays, seasonality, and locality. With thousands of individual managers predicting sales based on their unique circumstances, the accuracy of results can be quite varied.\n",
        "\n",
        "### You are provided with historical sales data for 1,115 Rossmann stores. The task is to forecast the \"Sales\" column for the test set. Note that some stores in the dataset were temporarily closed for refurbishment."
      ]
    },
    {
      "cell_type": "markdown",
      "metadata": {
        "id": "WWeU1f9bwqQq"
      },
      "source": [
        "## <b> Data Description </b>\n",
        "\n",
        "### <b>Rossmann Stores Data.csv </b> - historical data including Sales\n",
        "### <b>store.csv </b> - supplemental information about the stores\n",
        "\n",
        "\n",
        "### <b><u>Data fields</u></b>\n",
        "### Most of the fields are self-explanatory. The following are descriptions for those that aren't.\n",
        "\n",
        "* #### Id - an Id that represents a (Store, Date) duple within the test set\n",
        "* #### Store - a unique Id for each store\n",
        "* #### Sales - the turnover for any given day (this is what you are predicting)\n",
        "* #### Customers - the number of customers on a given day\n",
        "* #### Open - an indicator for whether the store was open: 0 = closed, 1 = open\n",
        "* #### StateHoliday - indicates a state holiday. Normally all stores, with few exceptions, are closed on state holidays. Note that all schools are closed on public holidays and weekends. a = public holiday, b = Easter holiday, c = Christmas, 0 = None\n",
        "* #### SchoolHoliday - indicates if the (Store, Date) was affected by the closure of public schools\n",
        "* #### StoreType - differentiates between 4 different store models: a, b, c, d\n",
        "* #### Assortment - describes an assortment level: a = basic, b = extra, c = extended\n",
        "* #### CompetitionDistance - distance in meters to the nearest competitor store\n",
        "* #### CompetitionOpenSince[Month/Year] - gives the approximate year and month of the time the nearest competitor was opened\n",
        "* #### Promo - indicates whether a store is running a promo on that day\n",
        "* #### Promo2 - Promo2 is a continuing and consecutive promotion for some stores: 0 = store is not participating, 1 = store is participating\n",
        "* #### Promo2Since[Year/Week] - describes the year and calendar week when the store started participating in Promo2\n",
        "* #### PromoInterval - describes the consecutive intervals Promo2 is started, naming the months the promotion is started anew. E.g. \"Feb,May,Aug,Nov\" means each round starts in February, May, August, November of any given year for that store"
      ]
    },
    {
      "cell_type": "code",
      "metadata": {
        "id": "dByMsuzT8Tnw",
        "colab": {
          "base_uri": "https://localhost:8080/"
        },
        "outputId": "24f334d7-d7f2-47dc-8477-e2ef67ead59f"
      },
      "source": [
        "#mounting drive\n",
        "from google.colab import drive\n",
        "drive.mount('/content/drive')"
      ],
      "execution_count": null,
      "outputs": [
        {
          "output_type": "stream",
          "text": [
            "Mounted at /content/drive\n"
          ],
          "name": "stdout"
        }
      ]
    },
    {
      "cell_type": "code",
      "metadata": {
        "id": "3gw8NiBk_4jl"
      },
      "source": [
        "#importing libraries for EDA\n",
        "import pandas as pd\n",
        "import numpy as np\n",
        "import matplotlib.pyplot as plt\n",
        "import seaborn as sns\n",
        "import datetime\n",
        "import missingno as msno\n",
        "%matplotlib inline"
      ],
      "execution_count": null,
      "outputs": []
    },
    {
      "cell_type": "code",
      "metadata": {
        "id": "cHixzxEm_4gx"
      },
      "source": [
        "#loading and reading TELECOM CHURN CSV file\n",
        "rossman_df= pd.read_csv('/content/drive/MyDrive/Retail Sales Prediction - Asim Siddiqui/Rossmann Stores Data.csv', low_memory= False)"
      ],
      "execution_count": null,
      "outputs": []
    },
    {
      "cell_type": "code",
      "metadata": {
        "id": "tpzoJy56_4eO"
      },
      "source": [
        "store_df = pd.read_csv('/content/drive/MyDrive/Retail Sales Prediction - Asim Siddiqui/Store.csv')"
      ],
      "execution_count": null,
      "outputs": []
    },
    {
      "cell_type": "code",
      "metadata": {
        "colab": {
          "base_uri": "https://localhost:8080/",
          "height": 204
        },
        "id": "gzYBk5-5_4by",
        "outputId": "4d31bf1e-8ef0-4b07-e79a-5e6df8257acb"
      },
      "source": [
        "rossman_df.head()"
      ],
      "execution_count": null,
      "outputs": [
        {
          "output_type": "execute_result",
          "data": {
            "text/html": [
              "<div>\n",
              "<style scoped>\n",
              "    .dataframe tbody tr th:only-of-type {\n",
              "        vertical-align: middle;\n",
              "    }\n",
              "\n",
              "    .dataframe tbody tr th {\n",
              "        vertical-align: top;\n",
              "    }\n",
              "\n",
              "    .dataframe thead th {\n",
              "        text-align: right;\n",
              "    }\n",
              "</style>\n",
              "<table border=\"1\" class=\"dataframe\">\n",
              "  <thead>\n",
              "    <tr style=\"text-align: right;\">\n",
              "      <th></th>\n",
              "      <th>Store</th>\n",
              "      <th>DayOfWeek</th>\n",
              "      <th>Date</th>\n",
              "      <th>Sales</th>\n",
              "      <th>Customers</th>\n",
              "      <th>Open</th>\n",
              "      <th>Promo</th>\n",
              "      <th>StateHoliday</th>\n",
              "      <th>SchoolHoliday</th>\n",
              "    </tr>\n",
              "  </thead>\n",
              "  <tbody>\n",
              "    <tr>\n",
              "      <th>0</th>\n",
              "      <td>1</td>\n",
              "      <td>5</td>\n",
              "      <td>2015-07-31</td>\n",
              "      <td>5263</td>\n",
              "      <td>555</td>\n",
              "      <td>1</td>\n",
              "      <td>1</td>\n",
              "      <td>0</td>\n",
              "      <td>1</td>\n",
              "    </tr>\n",
              "    <tr>\n",
              "      <th>1</th>\n",
              "      <td>2</td>\n",
              "      <td>5</td>\n",
              "      <td>2015-07-31</td>\n",
              "      <td>6064</td>\n",
              "      <td>625</td>\n",
              "      <td>1</td>\n",
              "      <td>1</td>\n",
              "      <td>0</td>\n",
              "      <td>1</td>\n",
              "    </tr>\n",
              "    <tr>\n",
              "      <th>2</th>\n",
              "      <td>3</td>\n",
              "      <td>5</td>\n",
              "      <td>2015-07-31</td>\n",
              "      <td>8314</td>\n",
              "      <td>821</td>\n",
              "      <td>1</td>\n",
              "      <td>1</td>\n",
              "      <td>0</td>\n",
              "      <td>1</td>\n",
              "    </tr>\n",
              "    <tr>\n",
              "      <th>3</th>\n",
              "      <td>4</td>\n",
              "      <td>5</td>\n",
              "      <td>2015-07-31</td>\n",
              "      <td>13995</td>\n",
              "      <td>1498</td>\n",
              "      <td>1</td>\n",
              "      <td>1</td>\n",
              "      <td>0</td>\n",
              "      <td>1</td>\n",
              "    </tr>\n",
              "    <tr>\n",
              "      <th>4</th>\n",
              "      <td>5</td>\n",
              "      <td>5</td>\n",
              "      <td>2015-07-31</td>\n",
              "      <td>4822</td>\n",
              "      <td>559</td>\n",
              "      <td>1</td>\n",
              "      <td>1</td>\n",
              "      <td>0</td>\n",
              "      <td>1</td>\n",
              "    </tr>\n",
              "  </tbody>\n",
              "</table>\n",
              "</div>"
            ],
            "text/plain": [
              "   Store  DayOfWeek        Date  Sales  ...  Open  Promo  StateHoliday SchoolHoliday\n",
              "0      1          5  2015-07-31   5263  ...     1      1             0             1\n",
              "1      2          5  2015-07-31   6064  ...     1      1             0             1\n",
              "2      3          5  2015-07-31   8314  ...     1      1             0             1\n",
              "3      4          5  2015-07-31  13995  ...     1      1             0             1\n",
              "4      5          5  2015-07-31   4822  ...     1      1             0             1\n",
              "\n",
              "[5 rows x 9 columns]"
            ]
          },
          "metadata": {
            "tags": []
          },
          "execution_count": 5
        }
      ]
    },
    {
      "cell_type": "code",
      "metadata": {
        "colab": {
          "base_uri": "https://localhost:8080/"
        },
        "id": "w2kegG2m_4Zb",
        "outputId": "7a8247e5-0292-4487-b0ba-b4dac899b82b"
      },
      "source": [
        "rossman_df.info()"
      ],
      "execution_count": null,
      "outputs": [
        {
          "output_type": "stream",
          "text": [
            "<class 'pandas.core.frame.DataFrame'>\n",
            "RangeIndex: 1017209 entries, 0 to 1017208\n",
            "Data columns (total 9 columns):\n",
            " #   Column         Non-Null Count    Dtype \n",
            "---  ------         --------------    ----- \n",
            " 0   Store          1017209 non-null  int64 \n",
            " 1   DayOfWeek      1017209 non-null  int64 \n",
            " 2   Date           1017209 non-null  object\n",
            " 3   Sales          1017209 non-null  int64 \n",
            " 4   Customers      1017209 non-null  int64 \n",
            " 5   Open           1017209 non-null  int64 \n",
            " 6   Promo          1017209 non-null  int64 \n",
            " 7   StateHoliday   1017209 non-null  object\n",
            " 8   SchoolHoliday  1017209 non-null  int64 \n",
            "dtypes: int64(7), object(2)\n",
            "memory usage: 69.8+ MB\n"
          ],
          "name": "stdout"
        }
      ]
    },
    {
      "cell_type": "code",
      "metadata": {
        "colab": {
          "base_uri": "https://localhost:8080/",
          "height": 297
        },
        "id": "bahOIXXbYjgF",
        "outputId": "97741bfb-56cc-4e17-aedf-47a040a9ce8c"
      },
      "source": [
        "rossman_df.describe()"
      ],
      "execution_count": null,
      "outputs": [
        {
          "output_type": "execute_result",
          "data": {
            "text/html": [
              "<div>\n",
              "<style scoped>\n",
              "    .dataframe tbody tr th:only-of-type {\n",
              "        vertical-align: middle;\n",
              "    }\n",
              "\n",
              "    .dataframe tbody tr th {\n",
              "        vertical-align: top;\n",
              "    }\n",
              "\n",
              "    .dataframe thead th {\n",
              "        text-align: right;\n",
              "    }\n",
              "</style>\n",
              "<table border=\"1\" class=\"dataframe\">\n",
              "  <thead>\n",
              "    <tr style=\"text-align: right;\">\n",
              "      <th></th>\n",
              "      <th>Store</th>\n",
              "      <th>DayOfWeek</th>\n",
              "      <th>Sales</th>\n",
              "      <th>Customers</th>\n",
              "      <th>Open</th>\n",
              "      <th>Promo</th>\n",
              "      <th>SchoolHoliday</th>\n",
              "    </tr>\n",
              "  </thead>\n",
              "  <tbody>\n",
              "    <tr>\n",
              "      <th>count</th>\n",
              "      <td>1.017209e+06</td>\n",
              "      <td>1.017209e+06</td>\n",
              "      <td>1.017209e+06</td>\n",
              "      <td>1.017209e+06</td>\n",
              "      <td>1.017209e+06</td>\n",
              "      <td>1.017209e+06</td>\n",
              "      <td>1.017209e+06</td>\n",
              "    </tr>\n",
              "    <tr>\n",
              "      <th>mean</th>\n",
              "      <td>5.584297e+02</td>\n",
              "      <td>3.998341e+00</td>\n",
              "      <td>5.773819e+03</td>\n",
              "      <td>6.331459e+02</td>\n",
              "      <td>8.301067e-01</td>\n",
              "      <td>3.815145e-01</td>\n",
              "      <td>1.786467e-01</td>\n",
              "    </tr>\n",
              "    <tr>\n",
              "      <th>std</th>\n",
              "      <td>3.219087e+02</td>\n",
              "      <td>1.997391e+00</td>\n",
              "      <td>3.849926e+03</td>\n",
              "      <td>4.644117e+02</td>\n",
              "      <td>3.755392e-01</td>\n",
              "      <td>4.857586e-01</td>\n",
              "      <td>3.830564e-01</td>\n",
              "    </tr>\n",
              "    <tr>\n",
              "      <th>min</th>\n",
              "      <td>1.000000e+00</td>\n",
              "      <td>1.000000e+00</td>\n",
              "      <td>0.000000e+00</td>\n",
              "      <td>0.000000e+00</td>\n",
              "      <td>0.000000e+00</td>\n",
              "      <td>0.000000e+00</td>\n",
              "      <td>0.000000e+00</td>\n",
              "    </tr>\n",
              "    <tr>\n",
              "      <th>25%</th>\n",
              "      <td>2.800000e+02</td>\n",
              "      <td>2.000000e+00</td>\n",
              "      <td>3.727000e+03</td>\n",
              "      <td>4.050000e+02</td>\n",
              "      <td>1.000000e+00</td>\n",
              "      <td>0.000000e+00</td>\n",
              "      <td>0.000000e+00</td>\n",
              "    </tr>\n",
              "    <tr>\n",
              "      <th>50%</th>\n",
              "      <td>5.580000e+02</td>\n",
              "      <td>4.000000e+00</td>\n",
              "      <td>5.744000e+03</td>\n",
              "      <td>6.090000e+02</td>\n",
              "      <td>1.000000e+00</td>\n",
              "      <td>0.000000e+00</td>\n",
              "      <td>0.000000e+00</td>\n",
              "    </tr>\n",
              "    <tr>\n",
              "      <th>75%</th>\n",
              "      <td>8.380000e+02</td>\n",
              "      <td>6.000000e+00</td>\n",
              "      <td>7.856000e+03</td>\n",
              "      <td>8.370000e+02</td>\n",
              "      <td>1.000000e+00</td>\n",
              "      <td>1.000000e+00</td>\n",
              "      <td>0.000000e+00</td>\n",
              "    </tr>\n",
              "    <tr>\n",
              "      <th>max</th>\n",
              "      <td>1.115000e+03</td>\n",
              "      <td>7.000000e+00</td>\n",
              "      <td>4.155100e+04</td>\n",
              "      <td>7.388000e+03</td>\n",
              "      <td>1.000000e+00</td>\n",
              "      <td>1.000000e+00</td>\n",
              "      <td>1.000000e+00</td>\n",
              "    </tr>\n",
              "  </tbody>\n",
              "</table>\n",
              "</div>"
            ],
            "text/plain": [
              "              Store     DayOfWeek  ...         Promo  SchoolHoliday\n",
              "count  1.017209e+06  1.017209e+06  ...  1.017209e+06   1.017209e+06\n",
              "mean   5.584297e+02  3.998341e+00  ...  3.815145e-01   1.786467e-01\n",
              "std    3.219087e+02  1.997391e+00  ...  4.857586e-01   3.830564e-01\n",
              "min    1.000000e+00  1.000000e+00  ...  0.000000e+00   0.000000e+00\n",
              "25%    2.800000e+02  2.000000e+00  ...  0.000000e+00   0.000000e+00\n",
              "50%    5.580000e+02  4.000000e+00  ...  0.000000e+00   0.000000e+00\n",
              "75%    8.380000e+02  6.000000e+00  ...  1.000000e+00   0.000000e+00\n",
              "max    1.115000e+03  7.000000e+00  ...  1.000000e+00   1.000000e+00\n",
              "\n",
              "[8 rows x 7 columns]"
            ]
          },
          "metadata": {
            "tags": []
          },
          "execution_count": 7
        }
      ]
    },
    {
      "cell_type": "code",
      "metadata": {
        "id": "UQvm3SdqdnFF"
      },
      "source": [
        "#making copy\n",
        "#rossman_df_temp= rossman_df.copy()\n",
        "#store_df_temp=store_df.copy()"
      ],
      "execution_count": null,
      "outputs": []
    },
    {
      "cell_type": "code",
      "metadata": {
        "colab": {
          "base_uri": "https://localhost:8080/"
        },
        "id": "mfJgWOBfbRnK",
        "outputId": "8fe2bfec-c25b-4962-a0ec-2e9c557fc37f"
      },
      "source": [
        "#sorting dataframe date order\n",
        "rossman_df.sort_values(by=['Date'],inplace=True, ascending= True)\n",
        "rossman_df.Date.head(5)\n"
      ],
      "execution_count": null,
      "outputs": [
        {
          "output_type": "execute_result",
          "data": {
            "text/plain": [
              "1017208    2013-01-01\n",
              "1016473    2013-01-01\n",
              "1016472    2013-01-01\n",
              "1016471    2013-01-01\n",
              "1016470    2013-01-01\n",
              "Name: Date, dtype: object"
            ]
          },
          "metadata": {
            "tags": []
          },
          "execution_count": 9
        }
      ]
    },
    {
      "cell_type": "code",
      "metadata": {
        "colab": {
          "base_uri": "https://localhost:8080/",
          "height": 224
        },
        "id": "mSKmaBi-_4XD",
        "outputId": "ba4d4c4d-e98e-406f-ffec-a8c34e386830"
      },
      "source": [
        "store_df.head(5)"
      ],
      "execution_count": null,
      "outputs": [
        {
          "output_type": "execute_result",
          "data": {
            "text/html": [
              "<div>\n",
              "<style scoped>\n",
              "    .dataframe tbody tr th:only-of-type {\n",
              "        vertical-align: middle;\n",
              "    }\n",
              "\n",
              "    .dataframe tbody tr th {\n",
              "        vertical-align: top;\n",
              "    }\n",
              "\n",
              "    .dataframe thead th {\n",
              "        text-align: right;\n",
              "    }\n",
              "</style>\n",
              "<table border=\"1\" class=\"dataframe\">\n",
              "  <thead>\n",
              "    <tr style=\"text-align: right;\">\n",
              "      <th></th>\n",
              "      <th>Store</th>\n",
              "      <th>StoreType</th>\n",
              "      <th>Assortment</th>\n",
              "      <th>CompetitionDistance</th>\n",
              "      <th>CompetitionOpenSinceMonth</th>\n",
              "      <th>CompetitionOpenSinceYear</th>\n",
              "      <th>Promo2</th>\n",
              "      <th>Promo2SinceWeek</th>\n",
              "      <th>Promo2SinceYear</th>\n",
              "      <th>PromoInterval</th>\n",
              "    </tr>\n",
              "  </thead>\n",
              "  <tbody>\n",
              "    <tr>\n",
              "      <th>0</th>\n",
              "      <td>1</td>\n",
              "      <td>c</td>\n",
              "      <td>a</td>\n",
              "      <td>1270.0</td>\n",
              "      <td>9.0</td>\n",
              "      <td>2008.0</td>\n",
              "      <td>0</td>\n",
              "      <td>NaN</td>\n",
              "      <td>NaN</td>\n",
              "      <td>NaN</td>\n",
              "    </tr>\n",
              "    <tr>\n",
              "      <th>1</th>\n",
              "      <td>2</td>\n",
              "      <td>a</td>\n",
              "      <td>a</td>\n",
              "      <td>570.0</td>\n",
              "      <td>11.0</td>\n",
              "      <td>2007.0</td>\n",
              "      <td>1</td>\n",
              "      <td>13.0</td>\n",
              "      <td>2010.0</td>\n",
              "      <td>Jan,Apr,Jul,Oct</td>\n",
              "    </tr>\n",
              "    <tr>\n",
              "      <th>2</th>\n",
              "      <td>3</td>\n",
              "      <td>a</td>\n",
              "      <td>a</td>\n",
              "      <td>14130.0</td>\n",
              "      <td>12.0</td>\n",
              "      <td>2006.0</td>\n",
              "      <td>1</td>\n",
              "      <td>14.0</td>\n",
              "      <td>2011.0</td>\n",
              "      <td>Jan,Apr,Jul,Oct</td>\n",
              "    </tr>\n",
              "    <tr>\n",
              "      <th>3</th>\n",
              "      <td>4</td>\n",
              "      <td>c</td>\n",
              "      <td>c</td>\n",
              "      <td>620.0</td>\n",
              "      <td>9.0</td>\n",
              "      <td>2009.0</td>\n",
              "      <td>0</td>\n",
              "      <td>NaN</td>\n",
              "      <td>NaN</td>\n",
              "      <td>NaN</td>\n",
              "    </tr>\n",
              "    <tr>\n",
              "      <th>4</th>\n",
              "      <td>5</td>\n",
              "      <td>a</td>\n",
              "      <td>a</td>\n",
              "      <td>29910.0</td>\n",
              "      <td>4.0</td>\n",
              "      <td>2015.0</td>\n",
              "      <td>0</td>\n",
              "      <td>NaN</td>\n",
              "      <td>NaN</td>\n",
              "      <td>NaN</td>\n",
              "    </tr>\n",
              "  </tbody>\n",
              "</table>\n",
              "</div>"
            ],
            "text/plain": [
              "   Store StoreType  ... Promo2SinceYear    PromoInterval\n",
              "0      1         c  ...             NaN              NaN\n",
              "1      2         a  ...          2010.0  Jan,Apr,Jul,Oct\n",
              "2      3         a  ...          2011.0  Jan,Apr,Jul,Oct\n",
              "3      4         c  ...             NaN              NaN\n",
              "4      5         a  ...             NaN              NaN\n",
              "\n",
              "[5 rows x 10 columns]"
            ]
          },
          "metadata": {
            "tags": []
          },
          "execution_count": 10
        }
      ]
    },
    {
      "cell_type": "code",
      "metadata": {
        "colab": {
          "base_uri": "https://localhost:8080/"
        },
        "id": "3CZY2Wu5_4VJ",
        "outputId": "a990912c-66ec-411b-8cc6-4f0cb9af1c71"
      },
      "source": [
        "store_df.info()"
      ],
      "execution_count": null,
      "outputs": [
        {
          "output_type": "stream",
          "text": [
            "<class 'pandas.core.frame.DataFrame'>\n",
            "RangeIndex: 1115 entries, 0 to 1114\n",
            "Data columns (total 10 columns):\n",
            " #   Column                     Non-Null Count  Dtype  \n",
            "---  ------                     --------------  -----  \n",
            " 0   Store                      1115 non-null   int64  \n",
            " 1   StoreType                  1115 non-null   object \n",
            " 2   Assortment                 1115 non-null   object \n",
            " 3   CompetitionDistance        1112 non-null   float64\n",
            " 4   CompetitionOpenSinceMonth  761 non-null    float64\n",
            " 5   CompetitionOpenSinceYear   761 non-null    float64\n",
            " 6   Promo2                     1115 non-null   int64  \n",
            " 7   Promo2SinceWeek            571 non-null    float64\n",
            " 8   Promo2SinceYear            571 non-null    float64\n",
            " 9   PromoInterval              571 non-null    object \n",
            "dtypes: float64(5), int64(2), object(3)\n",
            "memory usage: 87.2+ KB\n"
          ],
          "name": "stdout"
        }
      ]
    },
    {
      "cell_type": "code",
      "metadata": {
        "colab": {
          "base_uri": "https://localhost:8080/"
        },
        "id": "mzItSGNa_4St",
        "outputId": "ca40912e-b1f4-494a-ca89-15977252fa26"
      },
      "source": [
        "store_df.isna().sum()"
      ],
      "execution_count": null,
      "outputs": [
        {
          "output_type": "execute_result",
          "data": {
            "text/plain": [
              "Store                          0\n",
              "StoreType                      0\n",
              "Assortment                     0\n",
              "CompetitionDistance            3\n",
              "CompetitionOpenSinceMonth    354\n",
              "CompetitionOpenSinceYear     354\n",
              "Promo2                         0\n",
              "Promo2SinceWeek              544\n",
              "Promo2SinceYear              544\n",
              "PromoInterval                544\n",
              "dtype: int64"
            ]
          },
          "metadata": {
            "tags": []
          },
          "execution_count": 12
        }
      ]
    },
    {
      "cell_type": "code",
      "metadata": {
        "colab": {
          "base_uri": "https://localhost:8080/",
          "height": 527
        },
        "id": "JF-10DGA_4Pc",
        "outputId": "627ddfbd-3ee5-43a8-930c-8a89d6256040"
      },
      "source": [
        "# creating heatmap for null values\n",
        "plt.figure(figsize=(10,6))\n",
        "sns.heatmap(store_df.isnull(),yticklabels= False, cbar= False, cmap= 'gnuplot')"
      ],
      "execution_count": null,
      "outputs": [
        {
          "output_type": "execute_result",
          "data": {
            "text/plain": [
              "<matplotlib.axes._subplots.AxesSubplot at 0x7f731659ca50>"
            ]
          },
          "metadata": {
            "tags": []
          },
          "execution_count": 13
        },
        {
          "output_type": "display_data",
          "data": {
            "image/png": "[encoded data removed]",
            "text/plain": [
              "<Figure size 720x432 with 1 Axes>"
            ]
          },
          "metadata": {
            "tags": [],
            "needs_background": "light"
          }
        }
      ]
    },
    {
      "cell_type": "code",
      "metadata": {
        "id": "V2SFfDBL_4Kg"
      },
      "source": [
        "#dropping those columns having more null values\n",
        "store_df = store_df.drop(['Promo2SinceWeek','Promo2SinceYear', 'PromoInterval','CompetitionOpenSinceYear','CompetitionOpenSinceMonth'], axis=1)"
      ],
      "execution_count": null,
      "outputs": []
    },
    {
      "cell_type": "code",
      "metadata": {
        "colab": {
          "base_uri": "https://localhost:8080/"
        },
        "id": "hEoF7zag_4Bv",
        "outputId": "5aad77e4-dc0c-4ac4-d439-cb86caa0f368"
      },
      "source": [
        "store_df.info()"
      ],
      "execution_count": null,
      "outputs": [
        {
          "output_type": "stream",
          "text": [
            "<class 'pandas.core.frame.DataFrame'>\n",
            "RangeIndex: 1115 entries, 0 to 1114\n",
            "Data columns (total 5 columns):\n",
            " #   Column               Non-Null Count  Dtype  \n",
            "---  ------               --------------  -----  \n",
            " 0   Store                1115 non-null   int64  \n",
            " 1   StoreType            1115 non-null   object \n",
            " 2   Assortment           1115 non-null   object \n",
            " 3   CompetitionDistance  1112 non-null   float64\n",
            " 4   Promo2               1115 non-null   int64  \n",
            "dtypes: float64(1), int64(2), object(2)\n",
            "memory usage: 43.7+ KB\n"
          ],
          "name": "stdout"
        }
      ]
    },
    {
      "cell_type": "code",
      "metadata": {
        "colab": {
          "base_uri": "https://localhost:8080/"
        },
        "id": "RjBkJS2zVoD1",
        "outputId": "a2e5b283-803d-48af-85cd-b5c82dd99ffe"
      },
      "source": [
        "#checking null values again\n",
        "store_df.isna().sum()"
      ],
      "execution_count": null,
      "outputs": [
        {
          "output_type": "execute_result",
          "data": {
            "text/plain": [
              "Store                  0\n",
              "StoreType              0\n",
              "Assortment             0\n",
              "CompetitionDistance    3\n",
              "Promo2                 0\n",
              "dtype: int64"
            ]
          },
          "metadata": {
            "tags": []
          },
          "execution_count": 16
        }
      ]
    },
    {
      "cell_type": "code",
      "metadata": {
        "id": "O4ag5cOIVvtK"
      },
      "source": [
        "missing_col = ['CompetitionDistance']\n",
        "#Technique 1: Using medain to impute the missing values as median is more robust to outliers\n",
        "for i in missing_col:\n",
        " store_df.loc[store_df.loc[:,i].isnull(),i]=store_df.loc[:,i].median()"
      ],
      "execution_count": null,
      "outputs": []
    },
    {
      "cell_type": "code",
      "metadata": {
        "colab": {
          "base_uri": "https://localhost:8080/"
        },
        "id": "cTsFSshCWXwt",
        "outputId": "cbe8f0e7-6652-4cb3-f6d3-843289632763"
      },
      "source": [
        "store_df.isna().sum()"
      ],
      "execution_count": null,
      "outputs": [
        {
          "output_type": "execute_result",
          "data": {
            "text/plain": [
              "Store                  0\n",
              "StoreType              0\n",
              "Assortment             0\n",
              "CompetitionDistance    0\n",
              "Promo2                 0\n",
              "dtype: int64"
            ]
          },
          "metadata": {
            "tags": []
          },
          "execution_count": 18
        }
      ]
    },
    {
      "cell_type": "code",
      "metadata": {
        "colab": {
          "base_uri": "https://localhost:8080/",
          "height": 713
        },
        "id": "GD8y4tZSS2fF",
        "outputId": "4c48dbf7-d598-4267-e391-b6f9d0cbcdcc"
      },
      "source": [
        "\n",
        "sns.set_style(\"whitegrid\", {'axes.grid' : False})\n",
        "pp=sns.pairplot(store_df,hue='StoreType')\n",
        "pp.fig.set_size_inches(10,10);\n"
      ],
      "execution_count": null,
      "outputs": [
        {
          "output_type": "display_data",
          "data": {
            "image/png": "[encoded data removed]",
            "text/plain": [
              "<Figure size 720x720 with 12 Axes>"
            ]
          },
          "metadata": {
            "tags": []
          }
        }
      ]
    },
    {
      "cell_type": "code",
      "metadata": {
        "colab": {
          "base_uri": "https://localhost:8080/",
          "height": 446
        },
        "id": "Hoflpf8VXohu",
        "outputId": "a641f6ec-5113-46cc-e0d8-5e787367856c"
      },
      "source": [
        "sns.set_style(\"whitegrid\")\n",
        "fig, ax = plt.subplots()\n",
        "fig.set_size_inches(11, 7)\n",
        "store_type=sns.countplot(x='StoreType',hue='Assortment', data=store_df,palette=\"inferno\")\n",
        "\n",
        "for p in store_type.patches:\n",
        "    store_type.annotate(f'\\n{p.get_height()}', (p.get_x()+0.15, p.get_height()),ha='center', va='top', color='white', size=10)\n"
      ],
      "execution_count": null,
      "outputs": [
        {
          "output_type": "display_data",
          "data": {
            "image/png": "[encoded data removed]",
            "text/plain": [
              "<Figure size 792x504 with 1 Axes>"
            ]
          },
          "metadata": {
            "tags": []
          }
        }
      ]
    },
    {
      "cell_type": "code",
      "metadata": {
        "colab": {
          "base_uri": "https://localhost:8080/"
        },
        "id": "IgPg7PeHamqP",
        "outputId": "c82774e8-0060-407e-da47-f133f5d27fb8"
      },
      "source": [
        "store_df['Assortment'].value_counts()"
      ],
      "execution_count": null,
      "outputs": [
        {
          "output_type": "execute_result",
          "data": {
            "text/plain": [
              "a    593\n",
              "c    513\n",
              "b      9\n",
              "Name: Assortment, dtype: int64"
            ]
          },
          "metadata": {
            "tags": []
          },
          "execution_count": 21
        }
      ]
    },
    {
      "cell_type": "code",
      "metadata": {
        "id": "9W2Mx9_ye6Ej"
      },
      "source": [
        "#dropping assortment of b type\n",
        "store_df.drop(store_df.index[store_df['Assortment'] == 'b'], inplace = True)"
      ],
      "execution_count": null,
      "outputs": []
    },
    {
      "cell_type": "code",
      "metadata": {
        "colab": {
          "base_uri": "https://localhost:8080/",
          "height": 314
        },
        "id": "Hvbhn9cre6AZ",
        "outputId": "198729eb-f6ee-412a-94e4-6622f55f1f4e"
      },
      "source": [
        "print(store_df.shape)\n",
        "store_df.describe()\n"
      ],
      "execution_count": null,
      "outputs": [
        {
          "output_type": "stream",
          "text": [
            "(1106, 5)\n"
          ],
          "name": "stdout"
        },
        {
          "output_type": "execute_result",
          "data": {
            "text/html": [
              "<div>\n",
              "<style scoped>\n",
              "    .dataframe tbody tr th:only-of-type {\n",
              "        vertical-align: middle;\n",
              "    }\n",
              "\n",
              "    .dataframe tbody tr th {\n",
              "        vertical-align: top;\n",
              "    }\n",
              "\n",
              "    .dataframe thead th {\n",
              "        text-align: right;\n",
              "    }\n",
              "</style>\n",
              "<table border=\"1\" class=\"dataframe\">\n",
              "  <thead>\n",
              "    <tr style=\"text-align: right;\">\n",
              "      <th></th>\n",
              "      <th>Store</th>\n",
              "      <th>CompetitionDistance</th>\n",
              "      <th>Promo2</th>\n",
              "    </tr>\n",
              "  </thead>\n",
              "  <tbody>\n",
              "    <tr>\n",
              "      <th>count</th>\n",
              "      <td>1106.000000</td>\n",
              "      <td>1106.000000</td>\n",
              "      <td>1106.000000</td>\n",
              "    </tr>\n",
              "    <tr>\n",
              "      <th>mean</th>\n",
              "      <td>557.458409</td>\n",
              "      <td>5430.944846</td>\n",
              "      <td>0.512658</td>\n",
              "    </tr>\n",
              "    <tr>\n",
              "      <th>std</th>\n",
              "      <td>322.279798</td>\n",
              "      <td>7675.639569</td>\n",
              "      <td>0.500066</td>\n",
              "    </tr>\n",
              "    <tr>\n",
              "      <th>min</th>\n",
              "      <td>1.000000</td>\n",
              "      <td>20.000000</td>\n",
              "      <td>0.000000</td>\n",
              "    </tr>\n",
              "    <tr>\n",
              "      <th>25%</th>\n",
              "      <td>279.250000</td>\n",
              "      <td>720.000000</td>\n",
              "      <td>0.000000</td>\n",
              "    </tr>\n",
              "    <tr>\n",
              "      <th>50%</th>\n",
              "      <td>557.500000</td>\n",
              "      <td>2330.000000</td>\n",
              "      <td>1.000000</td>\n",
              "    </tr>\n",
              "    <tr>\n",
              "      <th>75%</th>\n",
              "      <td>836.750000</td>\n",
              "      <td>6897.500000</td>\n",
              "      <td>1.000000</td>\n",
              "    </tr>\n",
              "    <tr>\n",
              "      <th>max</th>\n",
              "      <td>1115.000000</td>\n",
              "      <td>75860.000000</td>\n",
              "      <td>1.000000</td>\n",
              "    </tr>\n",
              "  </tbody>\n",
              "</table>\n",
              "</div>"
            ],
            "text/plain": [
              "             Store  CompetitionDistance       Promo2\n",
              "count  1106.000000          1106.000000  1106.000000\n",
              "mean    557.458409          5430.944846     0.512658\n",
              "std     322.279798          7675.639569     0.500066\n",
              "min       1.000000            20.000000     0.000000\n",
              "25%     279.250000           720.000000     0.000000\n",
              "50%     557.500000          2330.000000     1.000000\n",
              "75%     836.750000          6897.500000     1.000000\n",
              "max    1115.000000         75860.000000     1.000000"
            ]
          },
          "metadata": {
            "tags": []
          },
          "execution_count": 23
        }
      ]
    },
    {
      "cell_type": "markdown",
      "metadata": {
        "id": "DYjFUOSqfYph"
      },
      "source": [
        "***cleaned store data  & now proceeding to Rossman df*** "
      ]
    },
    {
      "cell_type": "code",
      "metadata": {
        "colab": {
          "base_uri": "https://localhost:8080/"
        },
        "id": "K9jgPS9aLDod",
        "outputId": "c44e8e15-91f5-4ad0-85cb-9c6c77ec6b08"
      },
      "source": [
        "store_df.columns"
      ],
      "execution_count": null,
      "outputs": [
        {
          "output_type": "execute_result",
          "data": {
            "text/plain": [
              "Index(['Store', 'StoreType', 'Assortment', 'CompetitionDistance', 'Promo2'], dtype='object')"
            ]
          },
          "metadata": {
            "tags": []
          },
          "execution_count": 24
        }
      ]
    },
    {
      "cell_type": "code",
      "metadata": {
        "colab": {
          "base_uri": "https://localhost:8080/"
        },
        "id": "-SpC7qamC1yn",
        "outputId": "e768949f-2048-4626-97c3-399fe2a6549c"
      },
      "source": [
        "rossman_df.columns"
      ],
      "execution_count": null,
      "outputs": [
        {
          "output_type": "execute_result",
          "data": {
            "text/plain": [
              "Index(['Store', 'DayOfWeek', 'Date', 'Sales', 'Customers', 'Open', 'Promo',\n",
              "       'StateHoliday', 'SchoolHoliday'],\n",
              "      dtype='object')"
            ]
          },
          "metadata": {
            "tags": []
          },
          "execution_count": 25
        }
      ]
    },
    {
      "cell_type": "code",
      "metadata": {
        "colab": {
          "base_uri": "https://localhost:8080/",
          "height": 442
        },
        "id": "FPX1bC_qUBWk",
        "outputId": "4c480768-5b10-4405-e952-09cf028045bd"
      },
      "source": [
        "fig, ax = plt.subplots()\n",
        "fig.set_size_inches(11, 7)\n",
        "op=sns.countplot(x='Open', data=rossman_df,palette=\"hsv_r\")\n",
        "\n",
        "for p in op.patches:\n",
        "    op.annotate(f'\\n{p.get_height()}', (p.get_x()+0.25, p.get_height()), va='top', color='black', size=25)\n",
        "plt.show() # these 172817 wont generate any sales so we should remove these stores"
      ],
      "execution_count": null,
      "outputs": [
        {
          "output_type": "display_data",
          "data": {
            "image/png": "[encoded data removed]",
            "text/plain": [
              "<Figure size 792x504 with 1 Axes>"
            ]
          },
          "metadata": {
            "tags": []
          }
        }
      ]
    },
    {
      "cell_type": "code",
      "metadata": {
        "id": "6-ZSpc5NgK-5"
      },
      "source": [
        "rossman_df.drop(rossman_df.index[rossman_df['Open'] == 0], inplace = True)\n",
        "#dropping those observation where sales are 0\n",
        "rossman_df = rossman_df[rossman_df.Sales != 0]"
      ],
      "execution_count": null,
      "outputs": []
    },
    {
      "cell_type": "code",
      "metadata": {
        "colab": {
          "base_uri": "https://localhost:8080/"
        },
        "id": "HNBVW7ebnj6w",
        "outputId": "d247cbf4-25b1-43f5-d03a-0b560898ff78"
      },
      "source": [
        "rossman_df.shape"
      ],
      "execution_count": null,
      "outputs": [
        {
          "output_type": "execute_result",
          "data": {
            "text/plain": [
              "(844338, 9)"
            ]
          },
          "metadata": {
            "tags": []
          },
          "execution_count": 28
        }
      ]
    },
    {
      "cell_type": "markdown",
      "metadata": {
        "id": "gIuzyRXum27u"
      },
      "source": [
        "***Cleaned rossman data***"
      ]
    },
    {
      "cell_type": "code",
      "metadata": {
        "colab": {
          "base_uri": "https://localhost:8080/",
          "height": 496
        },
        "id": "MG-WDyDngK3z",
        "outputId": "dfce4a2a-d477-4508-a213-a2c4f83ffa4b"
      },
      "source": [
        "#distribution of sales\n",
        "fig, ax = plt.subplots()\n",
        "fig.set_size_inches(11, 7)\n",
        "sns.distplot(rossman_df['Sales'], kde = False,bins=40);"
      ],
      "execution_count": null,
      "outputs": [
        {
          "output_type": "stream",
          "text": [
            "/usr/local/lib/python3.7/dist-packages/seaborn/distributions.py:2557: FutureWarning: `distplot` is a deprecated function and will be removed in a future version. Please adapt your code to use either `displot` (a figure-level function with similar flexibility) or `histplot` (an axes-level function for histograms).\n",
            "  warnings.warn(msg, FutureWarning)\n"
          ],
          "name": "stderr"
        },
        {
          "output_type": "display_data",
          "data": {
            "image/png": "[encoded data removed]",
            "text/plain": [
              "<Figure size 792x504 with 1 Axes>"
            ]
          },
          "metadata": {
            "tags": []
          }
        }
      ]
    },
    {
      "cell_type": "code",
      "metadata": {
        "colab": {
          "base_uri": "https://localhost:8080/",
          "height": 497
        },
        "id": "79VyDOkpgKzR",
        "outputId": "7a2d5512-aa6d-4b7b-8c5d-02b9cda6d839"
      },
      "source": [
        "plt.figure(figsize=(15,8))\n",
        "sns.barplot(x='DayOfWeek', y='Sales' ,data=rossman_df); # on an averege we have most of our sales on 1st and last day of week "
      ],
      "execution_count": null,
      "outputs": [
        {
          "output_type": "display_data",
          "data": {
            "image/png": "[encoded data removed]",
            "text/plain": [
              "<Figure size 1080x576 with 1 Axes>"
            ]
          },
          "metadata": {
            "tags": []
          }
        }
      ]
    },
    {
      "cell_type": "code",
      "metadata": {
        "id": "g3b9EHaXgKVv"
      },
      "source": [
        "#linear relation between sales and customers\n",
        "#sns.lmplot(x= 'Sales' , y ='Customers',data=rossman_df, palette='seismic', height=5,aspect=1);\n"
      ],
      "execution_count": null,
      "outputs": []
    },
    {
      "cell_type": "code",
      "metadata": {
        "id": "oUNkm6kygKOE",
        "colab": {
          "base_uri": "https://localhost:8080/"
        },
        "outputId": "f753e67d-346c-403f-e34c-2d8ae36c751e"
      },
      "source": [
        "rossman_df['Date'].nunique()"
      ],
      "execution_count": null,
      "outputs": [
        {
          "output_type": "execute_result",
          "data": {
            "text/plain": [
              "942"
            ]
          },
          "metadata": {
            "tags": []
          },
          "execution_count": 32
        }
      ]
    },
    {
      "cell_type": "code",
      "metadata": {
        "id": "s8aYKeocgKTf",
        "colab": {
          "base_uri": "https://localhost:8080/"
        },
        "outputId": "cbcb8392-92d4-4436-892a-cbdde74d5c53"
      },
      "source": [
        "#extracting year,month,week\n",
        "rossman_df['Year'] = pd.DatetimeIndex(rossman_df['Date']).year\n",
        "rossman_df['Month'] = pd.DatetimeIndex(rossman_df['Date']).month\n",
        "rossman_df['week_of_year'] =pd.DatetimeIndex(rossman_df['Date']).week\n"
      ],
      "execution_count": null,
      "outputs": [
        {
          "output_type": "stream",
          "text": [
            "/usr/local/lib/python3.7/dist-packages/ipykernel_launcher.py:4: FutureWarning: weekofyear and week have been deprecated, please use DatetimeIndex.isocalendar().week instead, which returns a Series.  To exactly reproduce the behavior of week and weekofyear and return an Index, you may call pd.Int64Index(idx.isocalendar().week)\n",
            "  after removing the cwd from sys.path.\n"
          ],
          "name": "stderr"
        }
      ]
    },
    {
      "cell_type": "code",
      "metadata": {
        "id": "WY1XbxQIBtNp"
      },
      "source": [
        "rossman_df.drop(['Date'], axis=1,inplace= True)"
      ],
      "execution_count": null,
      "outputs": []
    },
    {
      "cell_type": "code",
      "metadata": {
        "id": "qlNKGEE9gKRd",
        "colab": {
          "base_uri": "https://localhost:8080/",
          "height": 221
        },
        "outputId": "7760324f-7cf6-4aa5-e3a5-47a12a510f03"
      },
      "source": [
        "print(rossman_df.shape)\n",
        "rossman_df.tail()"
      ],
      "execution_count": null,
      "outputs": [
        {
          "output_type": "stream",
          "text": [
            "(844338, 11)\n"
          ],
          "name": "stdout"
        },
        {
          "output_type": "execute_result",
          "data": {
            "text/html": [
              "<div>\n",
              "<style scoped>\n",
              "    .dataframe tbody tr th:only-of-type {\n",
              "        vertical-align: middle;\n",
              "    }\n",
              "\n",
              "    .dataframe tbody tr th {\n",
              "        vertical-align: top;\n",
              "    }\n",
              "\n",
              "    .dataframe thead th {\n",
              "        text-align: right;\n",
              "    }\n",
              "</style>\n",
              "<table border=\"1\" class=\"dataframe\">\n",
              "  <thead>\n",
              "    <tr style=\"text-align: right;\">\n",
              "      <th></th>\n",
              "      <th>Store</th>\n",
              "      <th>DayOfWeek</th>\n",
              "      <th>Sales</th>\n",
              "      <th>Customers</th>\n",
              "      <th>Open</th>\n",
              "      <th>Promo</th>\n",
              "      <th>StateHoliday</th>\n",
              "      <th>SchoolHoliday</th>\n",
              "      <th>Year</th>\n",
              "      <th>Month</th>\n",
              "      <th>week_of_year</th>\n",
              "    </tr>\n",
              "  </thead>\n",
              "  <tbody>\n",
              "    <tr>\n",
              "      <th>745</th>\n",
              "      <td>746</td>\n",
              "      <td>5</td>\n",
              "      <td>9082</td>\n",
              "      <td>638</td>\n",
              "      <td>1</td>\n",
              "      <td>1</td>\n",
              "      <td>0</td>\n",
              "      <td>1</td>\n",
              "      <td>2015</td>\n",
              "      <td>7</td>\n",
              "      <td>31</td>\n",
              "    </tr>\n",
              "    <tr>\n",
              "      <th>746</th>\n",
              "      <td>747</td>\n",
              "      <td>5</td>\n",
              "      <td>10708</td>\n",
              "      <td>826</td>\n",
              "      <td>1</td>\n",
              "      <td>1</td>\n",
              "      <td>0</td>\n",
              "      <td>1</td>\n",
              "      <td>2015</td>\n",
              "      <td>7</td>\n",
              "      <td>31</td>\n",
              "    </tr>\n",
              "    <tr>\n",
              "      <th>747</th>\n",
              "      <td>748</td>\n",
              "      <td>5</td>\n",
              "      <td>7481</td>\n",
              "      <td>578</td>\n",
              "      <td>1</td>\n",
              "      <td>1</td>\n",
              "      <td>0</td>\n",
              "      <td>1</td>\n",
              "      <td>2015</td>\n",
              "      <td>7</td>\n",
              "      <td>31</td>\n",
              "    </tr>\n",
              "    <tr>\n",
              "      <th>741</th>\n",
              "      <td>742</td>\n",
              "      <td>5</td>\n",
              "      <td>10460</td>\n",
              "      <td>1016</td>\n",
              "      <td>1</td>\n",
              "      <td>1</td>\n",
              "      <td>0</td>\n",
              "      <td>1</td>\n",
              "      <td>2015</td>\n",
              "      <td>7</td>\n",
              "      <td>31</td>\n",
              "    </tr>\n",
              "    <tr>\n",
              "      <th>0</th>\n",
              "      <td>1</td>\n",
              "      <td>5</td>\n",
              "      <td>5263</td>\n",
              "      <td>555</td>\n",
              "      <td>1</td>\n",
              "      <td>1</td>\n",
              "      <td>0</td>\n",
              "      <td>1</td>\n",
              "      <td>2015</td>\n",
              "      <td>7</td>\n",
              "      <td>31</td>\n",
              "    </tr>\n",
              "  </tbody>\n",
              "</table>\n",
              "</div>"
            ],
            "text/plain": [
              "     Store  DayOfWeek  Sales  ...  Year  Month  week_of_year\n",
              "745    746          5   9082  ...  2015      7            31\n",
              "746    747          5  10708  ...  2015      7            31\n",
              "747    748          5   7481  ...  2015      7            31\n",
              "741    742          5  10460  ...  2015      7            31\n",
              "0        1          5   5263  ...  2015      7            31\n",
              "\n",
              "[5 rows x 11 columns]"
            ]
          },
          "metadata": {
            "tags": []
          },
          "execution_count": 35
        }
      ]
    },
    {
      "cell_type": "markdown",
      "metadata": {
        "id": "Z7qUpfVvG5er"
      },
      "source": [
        ""
      ]
    },
    {
      "cell_type": "code",
      "metadata": {
        "id": "9M_2pRQ8gKMB",
        "colab": {
          "base_uri": "https://localhost:8080/",
          "height": 497
        },
        "outputId": "2ab9bc97-7ecc-470d-c85c-88eaa9d43918"
      },
      "source": [
        "plt.figure(figsize=(15,8))\n",
        "sns.barplot(x='Month',y='Sales',data=rossman_df );"
      ],
      "execution_count": null,
      "outputs": [
        {
          "output_type": "display_data",
          "data": {
            "image/png": "[encoded data removed]",
            "text/plain": [
              "<Figure size 1080x576 with 1 Axes>"
            ]
          },
          "metadata": {
            "tags": []
          }
        }
      ]
    },
    {
      "cell_type": "code",
      "metadata": {
        "id": "6wXpokhUgKJw",
        "colab": {
          "base_uri": "https://localhost:8080/"
        },
        "outputId": "129a355b-0a03-48c3-b0e6-fd0fc0858f36"
      },
      "source": [
        "rossman_df['Year'].nunique()"
      ],
      "execution_count": null,
      "outputs": [
        {
          "output_type": "execute_result",
          "data": {
            "text/plain": [
              "3"
            ]
          },
          "metadata": {
            "tags": []
          },
          "execution_count": 37
        }
      ]
    },
    {
      "cell_type": "code",
      "metadata": {
        "colab": {
          "base_uri": "https://localhost:8080/",
          "height": 311
        },
        "id": "SeQwHrLtgKGq",
        "outputId": "d7c4184c-b338-402a-e592-91cfb227e8ba"
      },
      "source": [
        "#year vs sales\n",
        "sns.catplot(x='Year',y='Sales',data=rossman_df, height=4, aspect=4 ); # since each year is showing pretty much same value we can drop the year too  "
      ],
      "execution_count": null,
      "outputs": [
        {
          "output_type": "display_data",
          "data": {
            "image/png": "[encoded data removed]",
            "text/plain": [
              "<Figure size 1152x288 with 1 Axes>"
            ]
          },
          "metadata": {
            "tags": []
          }
        }
      ]
    },
    {
      "cell_type": "code",
      "metadata": {
        "id": "wKGMCEYki3PX"
      },
      "source": [
        "df = pd.merge(rossman_df, store_df, how='left', on='Store')"
      ],
      "execution_count": null,
      "outputs": []
    },
    {
      "cell_type": "code",
      "metadata": {
        "id": "DcqhGcCTjEs8",
        "colab": {
          "base_uri": "https://localhost:8080/"
        },
        "outputId": "d5bb7248-d861-4437-82dc-904a36be3f37"
      },
      "source": [
        "df.info()"
      ],
      "execution_count": null,
      "outputs": [
        {
          "output_type": "stream",
          "text": [
            "<class 'pandas.core.frame.DataFrame'>\n",
            "Int64Index: 844338 entries, 0 to 844337\n",
            "Data columns (total 15 columns):\n",
            " #   Column               Non-Null Count   Dtype  \n",
            "---  ------               --------------   -----  \n",
            " 0   Store                844338 non-null  int64  \n",
            " 1   DayOfWeek            844338 non-null  int64  \n",
            " 2   Sales                844338 non-null  int64  \n",
            " 3   Customers            844338 non-null  int64  \n",
            " 4   Open                 844338 non-null  int64  \n",
            " 5   Promo                844338 non-null  int64  \n",
            " 6   StateHoliday         844338 non-null  object \n",
            " 7   SchoolHoliday        844338 non-null  int64  \n",
            " 8   Year                 844338 non-null  int64  \n",
            " 9   Month                844338 non-null  int64  \n",
            " 10  week_of_year         844338 non-null  int64  \n",
            " 11  StoreType            836129 non-null  object \n",
            " 12  Assortment           836129 non-null  object \n",
            " 13  CompetitionDistance  836129 non-null  float64\n",
            " 14  Promo2               836129 non-null  float64\n",
            "dtypes: float64(2), int64(10), object(3)\n",
            "memory usage: 103.1+ MB\n"
          ],
          "name": "stdout"
        }
      ]
    },
    {
      "cell_type": "code",
      "metadata": {
        "id": "1g0aa9UjozQb",
        "colab": {
          "base_uri": "https://localhost:8080/"
        },
        "outputId": "8ef4bc40-7b3c-43ee-c36e-4fcae7227d09"
      },
      "source": [
        "df.isna().sum()"
      ],
      "execution_count": null,
      "outputs": [
        {
          "output_type": "execute_result",
          "data": {
            "text/plain": [
              "Store                     0\n",
              "DayOfWeek                 0\n",
              "Sales                     0\n",
              "Customers                 0\n",
              "Open                      0\n",
              "Promo                     0\n",
              "StateHoliday              0\n",
              "SchoolHoliday             0\n",
              "Year                      0\n",
              "Month                     0\n",
              "week_of_year              0\n",
              "StoreType              8209\n",
              "Assortment             8209\n",
              "CompetitionDistance    8209\n",
              "Promo2                 8209\n",
              "dtype: int64"
            ]
          },
          "metadata": {
            "tags": []
          },
          "execution_count": 41
        }
      ]
    },
    {
      "cell_type": "code",
      "metadata": {
        "id": "f4421j2gpJxB",
        "colab": {
          "base_uri": "https://localhost:8080/"
        },
        "outputId": "5e0a977e-11c4-413a-d647-78708054b68f"
      },
      "source": [
        "#find columns which have string\n",
        "for label, content in df.items():\n",
        "  if pd.api.types.is_string_dtype(content):\n",
        "    print(label)"
      ],
      "execution_count": null,
      "outputs": [
        {
          "output_type": "stream",
          "text": [
            "StateHoliday\n",
            "StoreType\n",
            "Assortment\n"
          ],
          "name": "stdout"
        }
      ]
    },
    {
      "cell_type": "code",
      "metadata": {
        "id": "KkJF_nwKq5FC"
      },
      "source": [
        "#string into categories\n",
        "for label, content in df.items():\n",
        "    if pd.api.types.is_string_dtype(content):\n",
        "         df[label]=content.astype('category').cat.as_ordered()"
      ],
      "execution_count": null,
      "outputs": []
    },
    {
      "cell_type": "code",
      "metadata": {
        "id": "e_H8oUuVN6Dc",
        "colab": {
          "base_uri": "https://localhost:8080/"
        },
        "outputId": "3507d3b2-f92e-490d-a828-f282627170e1"
      },
      "source": [
        "\n",
        "df.info()\n",
        "print(df.isnull().sum()/len(df))"
      ],
      "execution_count": null,
      "outputs": [
        {
          "output_type": "stream",
          "text": [
            "<class 'pandas.core.frame.DataFrame'>\n",
            "Int64Index: 844338 entries, 0 to 844337\n",
            "Data columns (total 15 columns):\n",
            " #   Column               Non-Null Count   Dtype   \n",
            "---  ------               --------------   -----   \n",
            " 0   Store                844338 non-null  int64   \n",
            " 1   DayOfWeek            844338 non-null  int64   \n",
            " 2   Sales                844338 non-null  int64   \n",
            " 3   Customers            844338 non-null  int64   \n",
            " 4   Open                 844338 non-null  int64   \n",
            " 5   Promo                844338 non-null  int64   \n",
            " 6   StateHoliday         844338 non-null  category\n",
            " 7   SchoolHoliday        844338 non-null  int64   \n",
            " 8   Year                 844338 non-null  int64   \n",
            " 9   Month                844338 non-null  int64   \n",
            " 10  week_of_year         844338 non-null  int64   \n",
            " 11  StoreType            836129 non-null  category\n",
            " 12  Assortment           836129 non-null  category\n",
            " 13  CompetitionDistance  836129 non-null  float64 \n",
            " 14  Promo2               836129 non-null  float64 \n",
            "dtypes: category(3), float64(2), int64(10)\n",
            "memory usage: 86.2 MB\n",
            "Store                  0.000000\n",
            "DayOfWeek              0.000000\n",
            "Sales                  0.000000\n",
            "Customers              0.000000\n",
            "Open                   0.000000\n",
            "Promo                  0.000000\n",
            "StateHoliday           0.000000\n",
            "SchoolHoliday          0.000000\n",
            "Year                   0.000000\n",
            "Month                  0.000000\n",
            "week_of_year           0.000000\n",
            "StoreType              0.009722\n",
            "Assortment             0.009722\n",
            "CompetitionDistance    0.009722\n",
            "Promo2                 0.009722\n",
            "dtype: float64\n"
          ],
          "name": "stdout"
        }
      ]
    },
    {
      "cell_type": "code",
      "metadata": {
        "id": "d5wlGrqROd2v"
      },
      "source": [
        "df = df.dropna(how='any',axis=0) \n"
      ],
      "execution_count": null,
      "outputs": []
    },
    {
      "cell_type": "code",
      "metadata": {
        "id": "6WHM2S6vTbld",
        "colab": {
          "base_uri": "https://localhost:8080/"
        },
        "outputId": "5eeb4f8b-7b39-4e89-fdb9-13e372f4fe9a"
      },
      "source": [
        "df.shape"
      ],
      "execution_count": null,
      "outputs": [
        {
          "output_type": "execute_result",
          "data": {
            "text/plain": [
              "(836129, 15)"
            ]
          },
          "metadata": {
            "tags": []
          },
          "execution_count": 46
        }
      ]
    },
    {
      "cell_type": "code",
      "metadata": {
        "id": "TsWxkqv1XGxa"
      },
      "source": [
        "df_temp=df.copy()"
      ],
      "execution_count": null,
      "outputs": []
    },
    {
      "cell_type": "code",
      "metadata": {
        "id": "biZnmQgRTjcW"
      },
      "source": [
        "for label, content in df_temp.items():\n",
        "    if not pd.api.types.is_numeric_dtype(content):\n",
        "      df_temp[label]=pd.Categorical(content).codes+1 #turning categories into numbers"
      ],
      "execution_count": null,
      "outputs": []
    },
    {
      "cell_type": "code",
      "metadata": {
        "id": "PINCOwSdXnXs",
        "colab": {
          "base_uri": "https://localhost:8080/",
          "height": 224
        },
        "outputId": "c76dd351-3086-4ddb-b892-f86e76f7e8fc"
      },
      "source": [
        "df_temp.tail()"
      ],
      "execution_count": null,
      "outputs": [
        {
          "output_type": "execute_result",
          "data": {
            "text/html": [
              "<div>\n",
              "<style scoped>\n",
              "    .dataframe tbody tr th:only-of-type {\n",
              "        vertical-align: middle;\n",
              "    }\n",
              "\n",
              "    .dataframe tbody tr th {\n",
              "        vertical-align: top;\n",
              "    }\n",
              "\n",
              "    .dataframe thead th {\n",
              "        text-align: right;\n",
              "    }\n",
              "</style>\n",
              "<table border=\"1\" class=\"dataframe\">\n",
              "  <thead>\n",
              "    <tr style=\"text-align: right;\">\n",
              "      <th></th>\n",
              "      <th>Store</th>\n",
              "      <th>DayOfWeek</th>\n",
              "      <th>Sales</th>\n",
              "      <th>Customers</th>\n",
              "      <th>Open</th>\n",
              "      <th>Promo</th>\n",
              "      <th>StateHoliday</th>\n",
              "      <th>SchoolHoliday</th>\n",
              "      <th>Year</th>\n",
              "      <th>Month</th>\n",
              "      <th>week_of_year</th>\n",
              "      <th>StoreType</th>\n",
              "      <th>Assortment</th>\n",
              "      <th>CompetitionDistance</th>\n",
              "      <th>Promo2</th>\n",
              "    </tr>\n",
              "  </thead>\n",
              "  <tbody>\n",
              "    <tr>\n",
              "      <th>844333</th>\n",
              "      <td>746</td>\n",
              "      <td>5</td>\n",
              "      <td>9082</td>\n",
              "      <td>638</td>\n",
              "      <td>1</td>\n",
              "      <td>1</td>\n",
              "      <td>1</td>\n",
              "      <td>1</td>\n",
              "      <td>2015</td>\n",
              "      <td>7</td>\n",
              "      <td>31</td>\n",
              "      <td>4</td>\n",
              "      <td>2</td>\n",
              "      <td>4330.0</td>\n",
              "      <td>1.0</td>\n",
              "    </tr>\n",
              "    <tr>\n",
              "      <th>844334</th>\n",
              "      <td>747</td>\n",
              "      <td>5</td>\n",
              "      <td>10708</td>\n",
              "      <td>826</td>\n",
              "      <td>1</td>\n",
              "      <td>1</td>\n",
              "      <td>1</td>\n",
              "      <td>1</td>\n",
              "      <td>2015</td>\n",
              "      <td>7</td>\n",
              "      <td>31</td>\n",
              "      <td>3</td>\n",
              "      <td>2</td>\n",
              "      <td>45740.0</td>\n",
              "      <td>0.0</td>\n",
              "    </tr>\n",
              "    <tr>\n",
              "      <th>844335</th>\n",
              "      <td>748</td>\n",
              "      <td>5</td>\n",
              "      <td>7481</td>\n",
              "      <td>578</td>\n",
              "      <td>1</td>\n",
              "      <td>1</td>\n",
              "      <td>1</td>\n",
              "      <td>1</td>\n",
              "      <td>2015</td>\n",
              "      <td>7</td>\n",
              "      <td>31</td>\n",
              "      <td>4</td>\n",
              "      <td>1</td>\n",
              "      <td>2380.0</td>\n",
              "      <td>1.0</td>\n",
              "    </tr>\n",
              "    <tr>\n",
              "      <th>844336</th>\n",
              "      <td>742</td>\n",
              "      <td>5</td>\n",
              "      <td>10460</td>\n",
              "      <td>1016</td>\n",
              "      <td>1</td>\n",
              "      <td>1</td>\n",
              "      <td>1</td>\n",
              "      <td>1</td>\n",
              "      <td>2015</td>\n",
              "      <td>7</td>\n",
              "      <td>31</td>\n",
              "      <td>4</td>\n",
              "      <td>2</td>\n",
              "      <td>4380.0</td>\n",
              "      <td>0.0</td>\n",
              "    </tr>\n",
              "    <tr>\n",
              "      <th>844337</th>\n",
              "      <td>1</td>\n",
              "      <td>5</td>\n",
              "      <td>5263</td>\n",
              "      <td>555</td>\n",
              "      <td>1</td>\n",
              "      <td>1</td>\n",
              "      <td>1</td>\n",
              "      <td>1</td>\n",
              "      <td>2015</td>\n",
              "      <td>7</td>\n",
              "      <td>31</td>\n",
              "      <td>3</td>\n",
              "      <td>1</td>\n",
              "      <td>1270.0</td>\n",
              "      <td>0.0</td>\n",
              "    </tr>\n",
              "  </tbody>\n",
              "</table>\n",
              "</div>"
            ],
            "text/plain": [
              "        Store  DayOfWeek  Sales  ...  Assortment  CompetitionDistance  Promo2\n",
              "844333    746          5   9082  ...           2               4330.0     1.0\n",
              "844334    747          5  10708  ...           2              45740.0     0.0\n",
              "844335    748          5   7481  ...           1               2380.0     1.0\n",
              "844336    742          5  10460  ...           2               4380.0     0.0\n",
              "844337      1          5   5263  ...           1               1270.0     0.0\n",
              "\n",
              "[5 rows x 15 columns]"
            ]
          },
          "metadata": {
            "tags": []
          },
          "execution_count": 49
        }
      ]
    },
    {
      "cell_type": "code",
      "metadata": {
        "id": "PyQ2nY0PYU4K",
        "colab": {
          "base_uri": "https://localhost:8080/"
        },
        "outputId": "ee1b3cc6-5631-4fcb-bb84-b6bc318323a2"
      },
      "source": [
        "df_temp.info()"
      ],
      "execution_count": null,
      "outputs": [
        {
          "output_type": "stream",
          "text": [
            "<class 'pandas.core.frame.DataFrame'>\n",
            "Int64Index: 836129 entries, 1 to 844337\n",
            "Data columns (total 15 columns):\n",
            " #   Column               Non-Null Count   Dtype  \n",
            "---  ------               --------------   -----  \n",
            " 0   Store                836129 non-null  int64  \n",
            " 1   DayOfWeek            836129 non-null  int64  \n",
            " 2   Sales                836129 non-null  int64  \n",
            " 3   Customers            836129 non-null  int64  \n",
            " 4   Open                 836129 non-null  int64  \n",
            " 5   Promo                836129 non-null  int64  \n",
            " 6   StateHoliday         836129 non-null  int8   \n",
            " 7   SchoolHoliday        836129 non-null  int64  \n",
            " 8   Year                 836129 non-null  int64  \n",
            " 9   Month                836129 non-null  int64  \n",
            " 10  week_of_year         836129 non-null  int64  \n",
            " 11  StoreType            836129 non-null  int8   \n",
            " 12  Assortment           836129 non-null  int8   \n",
            " 13  CompetitionDistance  836129 non-null  float64\n",
            " 14  Promo2               836129 non-null  float64\n",
            "dtypes: float64(2), int64(10), int8(3)\n",
            "memory usage: 85.3 MB\n"
          ],
          "name": "stdout"
        }
      ]
    },
    {
      "cell_type": "code",
      "metadata": {
        "id": "g7VdtPIBZnTA"
      },
      "source": [
        "df1=df_temp.copy()"
      ],
      "execution_count": null,
      "outputs": []
    },
    {
      "cell_type": "code",
      "metadata": {
        "id": "Qf4zjTOua0A-"
      },
      "source": [
        "# converting all columns to int64\n",
        "cols = ['CompetitionDistance', 'Promo2','StoreType', 'Assortment', 'StateHoliday']\n",
        "df1[cols] = df1[cols].applymap(np.int64)"
      ],
      "execution_count": null,
      "outputs": []
    },
    {
      "cell_type": "code",
      "metadata": {
        "id": "1D6hf7Z-bCU3",
        "colab": {
          "base_uri": "https://localhost:8080/",
          "height": 224
        },
        "outputId": "cc366e42-f129-459a-91f9-ca5fd39c5338"
      },
      "source": [
        "df1.head()"
      ],
      "execution_count": null,
      "outputs": [
        {
          "output_type": "execute_result",
          "data": {
            "text/html": [
              "<div>\n",
              "<style scoped>\n",
              "    .dataframe tbody tr th:only-of-type {\n",
              "        vertical-align: middle;\n",
              "    }\n",
              "\n",
              "    .dataframe tbody tr th {\n",
              "        vertical-align: top;\n",
              "    }\n",
              "\n",
              "    .dataframe thead th {\n",
              "        text-align: right;\n",
              "    }\n",
              "</style>\n",
              "<table border=\"1\" class=\"dataframe\">\n",
              "  <thead>\n",
              "    <tr style=\"text-align: right;\">\n",
              "      <th></th>\n",
              "      <th>Store</th>\n",
              "      <th>DayOfWeek</th>\n",
              "      <th>Sales</th>\n",
              "      <th>Customers</th>\n",
              "      <th>Open</th>\n",
              "      <th>Promo</th>\n",
              "      <th>StateHoliday</th>\n",
              "      <th>SchoolHoliday</th>\n",
              "      <th>Year</th>\n",
              "      <th>Month</th>\n",
              "      <th>week_of_year</th>\n",
              "      <th>StoreType</th>\n",
              "      <th>Assortment</th>\n",
              "      <th>CompetitionDistance</th>\n",
              "      <th>Promo2</th>\n",
              "    </tr>\n",
              "  </thead>\n",
              "  <tbody>\n",
              "    <tr>\n",
              "      <th>1</th>\n",
              "      <td>335</td>\n",
              "      <td>2</td>\n",
              "      <td>2401</td>\n",
              "      <td>482</td>\n",
              "      <td>1</td>\n",
              "      <td>0</td>\n",
              "      <td>2</td>\n",
              "      <td>1</td>\n",
              "      <td>2013</td>\n",
              "      <td>1</td>\n",
              "      <td>1</td>\n",
              "      <td>2</td>\n",
              "      <td>1</td>\n",
              "      <td>90</td>\n",
              "      <td>1</td>\n",
              "    </tr>\n",
              "    <tr>\n",
              "      <th>3</th>\n",
              "      <td>494</td>\n",
              "      <td>2</td>\n",
              "      <td>3113</td>\n",
              "      <td>527</td>\n",
              "      <td>1</td>\n",
              "      <td>0</td>\n",
              "      <td>2</td>\n",
              "      <td>1</td>\n",
              "      <td>2013</td>\n",
              "      <td>1</td>\n",
              "      <td>1</td>\n",
              "      <td>2</td>\n",
              "      <td>1</td>\n",
              "      <td>1260</td>\n",
              "      <td>0</td>\n",
              "    </tr>\n",
              "    <tr>\n",
              "      <th>4</th>\n",
              "      <td>530</td>\n",
              "      <td>2</td>\n",
              "      <td>2907</td>\n",
              "      <td>532</td>\n",
              "      <td>1</td>\n",
              "      <td>0</td>\n",
              "      <td>2</td>\n",
              "      <td>1</td>\n",
              "      <td>2013</td>\n",
              "      <td>1</td>\n",
              "      <td>1</td>\n",
              "      <td>1</td>\n",
              "      <td>2</td>\n",
              "      <td>18160</td>\n",
              "      <td>0</td>\n",
              "    </tr>\n",
              "    <tr>\n",
              "      <th>5</th>\n",
              "      <td>423</td>\n",
              "      <td>2</td>\n",
              "      <td>9643</td>\n",
              "      <td>1751</td>\n",
              "      <td>1</td>\n",
              "      <td>0</td>\n",
              "      <td>2</td>\n",
              "      <td>1</td>\n",
              "      <td>2013</td>\n",
              "      <td>1</td>\n",
              "      <td>1</td>\n",
              "      <td>2</td>\n",
              "      <td>1</td>\n",
              "      <td>1270</td>\n",
              "      <td>0</td>\n",
              "    </tr>\n",
              "    <tr>\n",
              "      <th>6</th>\n",
              "      <td>85</td>\n",
              "      <td>2</td>\n",
              "      <td>4220</td>\n",
              "      <td>619</td>\n",
              "      <td>1</td>\n",
              "      <td>0</td>\n",
              "      <td>2</td>\n",
              "      <td>1</td>\n",
              "      <td>2013</td>\n",
              "      <td>1</td>\n",
              "      <td>1</td>\n",
              "      <td>2</td>\n",
              "      <td>1</td>\n",
              "      <td>1870</td>\n",
              "      <td>0</td>\n",
              "    </tr>\n",
              "  </tbody>\n",
              "</table>\n",
              "</div>"
            ],
            "text/plain": [
              "   Store  DayOfWeek  Sales  ...  Assortment  CompetitionDistance  Promo2\n",
              "1    335          2   2401  ...           1                   90       1\n",
              "3    494          2   3113  ...           1                 1260       0\n",
              "4    530          2   2907  ...           2                18160       0\n",
              "5    423          2   9643  ...           1                 1270       0\n",
              "6     85          2   4220  ...           1                 1870       0\n",
              "\n",
              "[5 rows x 15 columns]"
            ]
          },
          "metadata": {
            "tags": []
          },
          "execution_count": 53
        }
      ]
    },
    {
      "cell_type": "code",
      "metadata": {
        "id": "cOdMyBRYbwsO",
        "colab": {
          "base_uri": "https://localhost:8080/"
        },
        "outputId": "da1b70b2-0cf3-4d8f-d21b-07f7af092271"
      },
      "source": [
        "len(df1)"
      ],
      "execution_count": null,
      "outputs": [
        {
          "output_type": "execute_result",
          "data": {
            "text/plain": [
              "836129"
            ]
          },
          "metadata": {
            "tags": []
          },
          "execution_count": 54
        }
      ]
    },
    {
      "cell_type": "code",
      "metadata": {
        "id": "wGFxGb4Xeloq"
      },
      "source": [
        ""
      ],
      "execution_count": null,
      "outputs": []
    },
    {
      "cell_type": "markdown",
      "metadata": {
        "id": "sZkMuu7mXmv-"
      },
      "source": [
        "#Now that our Data set has only numeric values we go for ML"
      ]
    },
    {
      "cell_type": "code",
      "metadata": {
        "id": "a2RsCbkA82fz"
      },
      "source": [
        "X = df1.drop('Sales',axis=1)"
      ],
      "execution_count": null,
      "outputs": []
    },
    {
      "cell_type": "code",
      "metadata": {
        "id": "dti7LhMM82dH"
      },
      "source": [
        "y= df1['Sales']"
      ],
      "execution_count": null,
      "outputs": []
    },
    {
      "cell_type": "code",
      "metadata": {
        "id": "AQD9ICX_8KX_"
      },
      "source": [
        "from sklearn.model_selection import train_test_split\n",
        "X_train, X_test, y_train, y_test = train_test_split(X, y, test_size=0.3, random_state=101)"
      ],
      "execution_count": null,
      "outputs": []
    },
    {
      "cell_type": "code",
      "metadata": {
        "id": "qFNiWrnY8KVs",
        "colab": {
          "base_uri": "https://localhost:8080/"
        },
        "outputId": "8ea9a939-c074-41c0-ab61-410173e2e65a"
      },
      "source": [
        "X_train.shape, y_train.shape, X_test.shape, y_test.shape "
      ],
      "execution_count": null,
      "outputs": [
        {
          "output_type": "execute_result",
          "data": {
            "text/plain": [
              "((585290, 14), (585290,), (250839, 14), (250839,))"
            ]
          },
          "metadata": {
            "tags": []
          },
          "execution_count": 58
        }
      ]
    },
    {
      "cell_type": "code",
      "metadata": {
        "id": "ijzOHEo-8KR6"
      },
      "source": [
        "#now we train our model on training data\n",
        "from sklearn.linear_model import LinearRegression\n",
        "lm= LinearRegression()"
      ],
      "execution_count": null,
      "outputs": []
    },
    {
      "cell_type": "code",
      "metadata": {
        "id": "v8fq6a9w8KPh",
        "colab": {
          "base_uri": "https://localhost:8080/"
        },
        "outputId": "2cf73ccc-d97a-4a9f-c1ac-6d1bef49586c"
      },
      "source": [
        "\n",
        "#train /fit lm on trianing data\n",
        "lm.fit(X_train, y_train)"
      ],
      "execution_count": null,
      "outputs": [
        {
          "output_type": "execute_result",
          "data": {
            "text/plain": [
              "LinearRegression(copy_X=True, fit_intercept=True, n_jobs=None, normalize=False)"
            ]
          },
          "metadata": {
            "tags": []
          },
          "execution_count": 60
        }
      ]
    },
    {
      "cell_type": "code",
      "metadata": {
        "colab": {
          "base_uri": "https://localhost:8080/"
        },
        "id": "UHQ5dhGwNu-q",
        "outputId": "60806335-1042-4fad-847b-8578a94ed09f"
      },
      "source": [
        "print(\"Train Accuracy:\",lm.score(X_train, y_train))\n",
        "print(\"Test Accuracy:\",lm.score(X_test, y_test))"
      ],
      "execution_count": null,
      "outputs": [
        {
          "output_type": "stream",
          "text": [
            "Train Accuracy: 0.8136623243697754\n",
            "Test Accuracy: 0.8126107293397196\n"
          ],
          "name": "stdout"
        }
      ]
    },
    {
      "cell_type": "code",
      "metadata": {
        "id": "-jcD_dWv8KMl",
        "colab": {
          "base_uri": "https://localhost:8080/"
        },
        "outputId": "0d0b436b-3700-469c-9bce-4a7bf83d0b01"
      },
      "source": [
        "lm.coef_"
      ],
      "execution_count": null,
      "outputs": [
        {
          "output_type": "execute_result",
          "data": {
            "text/plain": [
              "array([-1.06198643e-01, -5.19286024e+01,  7.15703652e+00,  9.09494702e-13,\n",
              "        1.18443292e+03, -9.49780082e+02,  3.02215428e+01,  1.79159917e+02,\n",
              "        4.16329439e+01, -1.29471435e+00,  3.09714453e+02,  3.75710277e+02,\n",
              "        3.08667532e-02,  3.45286844e+02])"
            ]
          },
          "metadata": {
            "tags": []
          },
          "execution_count": 62
        }
      ]
    },
    {
      "cell_type": "code",
      "metadata": {
        "id": "abYG6h8L8KHr"
      },
      "source": [
        "#predicting X test set of data\n",
        "predictions_simple=lm.predict(X_test)"
      ],
      "execution_count": null,
      "outputs": []
    },
    {
      "cell_type": "code",
      "metadata": {
        "colab": {
          "base_uri": "https://localhost:8080/"
        },
        "id": "NHJboha_RcqL",
        "outputId": "67cba9cb-0562-4115-988d-5266e8c5b516"
      },
      "source": [
        "predictions_simple"
      ],
      "execution_count": null,
      "outputs": [
        {
          "output_type": "execute_result",
          "data": {
            "text/plain": [
              "array([ 6491.03273439,  6544.30536107,  4358.91683295, ...,\n",
              "       10756.03477838,  5122.77073526,  5666.34265871])"
            ]
          },
          "metadata": {
            "tags": []
          },
          "execution_count": 122
        }
      ]
    },
    {
      "cell_type": "code",
      "metadata": {
        "id": "POBqXe3S8KCv",
        "colab": {
          "base_uri": "https://localhost:8080/"
        },
        "outputId": "43ae2119-cbca-4853-c970-63acc3e80846"
      },
      "source": [
        "\n",
        "from sklearn import metrics\n",
        "print('MAE', metrics.mean_absolute_error(y_test,predictions_simple))\n",
        "print('MSE', metrics.mean_squared_error(y_test,predictions_simple))\n",
        "print('RMSE',np.sqrt( metrics.mean_squared_error(y_test,predictions_simple)))\n",
        "\n",
        "ols_mae= metrics.mean_absolute_error(y_test,predictions_simple)\n"
      ],
      "execution_count": null,
      "outputs": [
        {
          "output_type": "stream",
          "text": [
            "MAE 972.0258276334025\n",
            "MSE 1791300.6214345715\n",
            "RMSE 1338.394792815099\n"
          ],
          "name": "stdout"
        }
      ]
    },
    {
      "cell_type": "code",
      "metadata": {
        "id": "cVnaNvCGQnBT"
      },
      "source": [
        "simple_ols_pred = predictions_simple[:100]\n",
        "simple_ols_real = y_test[:100]\n",
        "dataset_ols = pd.DataFrame({'Real':simple_ols_real,'PredictedOLS':simple_ols_pred})"
      ],
      "execution_count": null,
      "outputs": []
    },
    {
      "cell_type": "code",
      "metadata": {
        "id": "8T7k6w1Uj9Zi"
      },
      "source": [
        "dataset_ols['diff']=(dataset_ols['Real']-dataset_ols['PredictedOLS']).abs()"
      ],
      "execution_count": null,
      "outputs": []
    },
    {
      "cell_type": "code",
      "metadata": {
        "colab": {
          "base_uri": "https://localhost:8080/",
          "height": 173
        },
        "id": "4r6X85ETRIVB",
        "outputId": "b5b5b3d6-b32e-4457-be89-afb97daed5b6"
      },
      "source": [
        "dataset_ols.sample(4)"
      ],
      "execution_count": null,
      "outputs": [
        {
          "output_type": "execute_result",
          "data": {
            "text/html": [
              "<div>\n",
              "<style scoped>\n",
              "    .dataframe tbody tr th:only-of-type {\n",
              "        vertical-align: middle;\n",
              "    }\n",
              "\n",
              "    .dataframe tbody tr th {\n",
              "        vertical-align: top;\n",
              "    }\n",
              "\n",
              "    .dataframe thead th {\n",
              "        text-align: right;\n",
              "    }\n",
              "</style>\n",
              "<table border=\"1\" class=\"dataframe\">\n",
              "  <thead>\n",
              "    <tr style=\"text-align: right;\">\n",
              "      <th></th>\n",
              "      <th>Real</th>\n",
              "      <th>PredictedOLS</th>\n",
              "      <th>diff</th>\n",
              "    </tr>\n",
              "  </thead>\n",
              "  <tbody>\n",
              "    <tr>\n",
              "      <th>774262</th>\n",
              "      <td>9219</td>\n",
              "      <td>8397.785626</td>\n",
              "      <td>821.214374</td>\n",
              "    </tr>\n",
              "    <tr>\n",
              "      <th>57587</th>\n",
              "      <td>4572</td>\n",
              "      <td>3272.553191</td>\n",
              "      <td>1299.446809</td>\n",
              "    </tr>\n",
              "    <tr>\n",
              "      <th>114780</th>\n",
              "      <td>7237</td>\n",
              "      <td>6491.032734</td>\n",
              "      <td>745.967266</td>\n",
              "    </tr>\n",
              "    <tr>\n",
              "      <th>394422</th>\n",
              "      <td>9330</td>\n",
              "      <td>6828.027247</td>\n",
              "      <td>2501.972753</td>\n",
              "    </tr>\n",
              "  </tbody>\n",
              "</table>\n",
              "</div>"
            ],
            "text/plain": [
              "        Real  PredictedOLS         diff\n",
              "774262  9219   8397.785626   821.214374\n",
              "57587   4572   3272.553191  1299.446809\n",
              "114780  7237   6491.032734   745.967266\n",
              "394422  9330   6828.027247  2501.972753"
            ]
          },
          "metadata": {
            "tags": []
          },
          "execution_count": 115
        }
      ]
    },
    {
      "cell_type": "code",
      "metadata": {
        "id": "Y9tDpHdy8KFb"
      },
      "source": [
        "# creating scatter plot of the real values versus the predicted values\n",
        "#plt.scatter(y_test,predictions_simple)\n",
        "#plt.xlabel('Y test (True values)')\n",
        "#plt.ylabel('Predicted values'); "
      ],
      "execution_count": null,
      "outputs": []
    },
    {
      "cell_type": "code",
      "metadata": {
        "id": "WWlMIcJS-Tpd",
        "colab": {
          "base_uri": "https://localhost:8080/",
          "height": 483
        },
        "outputId": "a03aa58c-8882-468b-9251-87e1d5d09b20"
      },
      "source": [
        "df1=pd.DataFrame(lm.coef_,X.columns, columns=['Coeff'])\n",
        "df1"
      ],
      "execution_count": null,
      "outputs": [
        {
          "output_type": "execute_result",
          "data": {
            "text/html": [
              "<div>\n",
              "<style scoped>\n",
              "    .dataframe tbody tr th:only-of-type {\n",
              "        vertical-align: middle;\n",
              "    }\n",
              "\n",
              "    .dataframe tbody tr th {\n",
              "        vertical-align: top;\n",
              "    }\n",
              "\n",
              "    .dataframe thead th {\n",
              "        text-align: right;\n",
              "    }\n",
              "</style>\n",
              "<table border=\"1\" class=\"dataframe\">\n",
              "  <thead>\n",
              "    <tr style=\"text-align: right;\">\n",
              "      <th></th>\n",
              "      <th>Coeff</th>\n",
              "    </tr>\n",
              "  </thead>\n",
              "  <tbody>\n",
              "    <tr>\n",
              "      <th>Store</th>\n",
              "      <td>-1.061986e-01</td>\n",
              "    </tr>\n",
              "    <tr>\n",
              "      <th>DayOfWeek</th>\n",
              "      <td>-5.192860e+01</td>\n",
              "    </tr>\n",
              "    <tr>\n",
              "      <th>Customers</th>\n",
              "      <td>7.157037e+00</td>\n",
              "    </tr>\n",
              "    <tr>\n",
              "      <th>Open</th>\n",
              "      <td>9.094947e-13</td>\n",
              "    </tr>\n",
              "    <tr>\n",
              "      <th>Promo</th>\n",
              "      <td>1.184433e+03</td>\n",
              "    </tr>\n",
              "    <tr>\n",
              "      <th>StateHoliday</th>\n",
              "      <td>-9.497801e+02</td>\n",
              "    </tr>\n",
              "    <tr>\n",
              "      <th>SchoolHoliday</th>\n",
              "      <td>3.022154e+01</td>\n",
              "    </tr>\n",
              "    <tr>\n",
              "      <th>Year</th>\n",
              "      <td>1.791599e+02</td>\n",
              "    </tr>\n",
              "    <tr>\n",
              "      <th>Month</th>\n",
              "      <td>4.163294e+01</td>\n",
              "    </tr>\n",
              "    <tr>\n",
              "      <th>week_of_year</th>\n",
              "      <td>-1.294714e+00</td>\n",
              "    </tr>\n",
              "    <tr>\n",
              "      <th>StoreType</th>\n",
              "      <td>3.097145e+02</td>\n",
              "    </tr>\n",
              "    <tr>\n",
              "      <th>Assortment</th>\n",
              "      <td>3.757103e+02</td>\n",
              "    </tr>\n",
              "    <tr>\n",
              "      <th>CompetitionDistance</th>\n",
              "      <td>3.086675e-02</td>\n",
              "    </tr>\n",
              "    <tr>\n",
              "      <th>Promo2</th>\n",
              "      <td>3.452868e+02</td>\n",
              "    </tr>\n",
              "  </tbody>\n",
              "</table>\n",
              "</div>"
            ],
            "text/plain": [
              "                            Coeff\n",
              "Store               -1.061986e-01\n",
              "DayOfWeek           -5.192860e+01\n",
              "Customers            7.157037e+00\n",
              "Open                 9.094947e-13\n",
              "Promo                1.184433e+03\n",
              "StateHoliday        -9.497801e+02\n",
              "SchoolHoliday        3.022154e+01\n",
              "Year                 1.791599e+02\n",
              "Month                4.163294e+01\n",
              "week_of_year        -1.294714e+00\n",
              "StoreType            3.097145e+02\n",
              "Assortment           3.757103e+02\n",
              "CompetitionDistance  3.086675e-02\n",
              "Promo2               3.452868e+02"
            ]
          },
          "metadata": {
            "tags": []
          },
          "execution_count": 69
        }
      ]
    },
    {
      "cell_type": "code",
      "metadata": {
        "colab": {
          "base_uri": "https://localhost:8080/",
          "height": 383
        },
        "id": "1ym9IG8TXVz3",
        "outputId": "9a15630d-7a8a-4bf9-e050-5b1946bd4dc7"
      },
      "source": [
        "sns.lmplot(x='Real', y='PredictedOLS', data=dataset_ols, line_kws={'color': 'red'});"
      ],
      "execution_count": null,
      "outputs": [
        {
          "output_type": "display_data",
          "data": {
            "image/png": "[encoded data removed]",
            "text/plain": [
              "<Figure size 360x360 with 1 Axes>"
            ]
          },
          "metadata": {
            "tags": []
          }
        }
      ]
    },
    {
      "cell_type": "code",
      "metadata": {
        "id": "HKBETx5q-Tig"
      },
      "source": [
        "from sklearn.linear_model import ElasticNet\n",
        "#a * L1 + b * L2\n",
        "#alpha = a + b and l1_ratio = a / (a + b)\n",
        "elasticnet = ElasticNet(alpha=0.70, l1_ratio=0.64)"
      ],
      "execution_count": null,
      "outputs": []
    },
    {
      "cell_type": "code",
      "metadata": {
        "colab": {
          "base_uri": "https://localhost:8080/"
        },
        "id": "UEfURDYZE0zE",
        "outputId": "e42e13ab-54c5-4c30-de99-32f3aa53193c"
      },
      "source": [
        "elasticnet.fit(X_train,y_train)"
      ],
      "execution_count": null,
      "outputs": [
        {
          "output_type": "execute_result",
          "data": {
            "text/plain": [
              "ElasticNet(alpha=0.7, copy_X=True, fit_intercept=True, l1_ratio=0.64,\n",
              "           max_iter=1000, normalize=False, positive=False, precompute=False,\n",
              "           random_state=None, selection='cyclic', tol=0.0001, warm_start=False)"
            ]
          },
          "metadata": {
            "tags": []
          },
          "execution_count": 72
        }
      ]
    },
    {
      "cell_type": "code",
      "metadata": {
        "colab": {
          "base_uri": "https://localhost:8080/"
        },
        "id": "n4HO0t8aOCLN",
        "outputId": "8f573011-215c-4842-98f8-56de964b5af3"
      },
      "source": [
        "print(\"Train Accuracy:\",elasticnet.score(X_train, y_train))\n",
        "print(\"Test Accuracy:\",elasticnet.score(X_test, y_test))"
      ],
      "execution_count": null,
      "outputs": [
        {
          "output_type": "stream",
          "text": [
            "Train Accuracy: 0.8023474230685707\n",
            "Test Accuracy: 0.8015717777882808\n"
          ],
          "name": "stdout"
        }
      ]
    },
    {
      "cell_type": "code",
      "metadata": {
        "id": "wLbhA09b-Tfi"
      },
      "source": [
        "y_pred_en = elasticnet.predict(X_test)\n"
      ],
      "execution_count": null,
      "outputs": []
    },
    {
      "cell_type": "code",
      "metadata": {
        "id": "68IW1Fy1TNMH"
      },
      "source": [
        "elasticnet_pred = y_pred_en[:100]\n",
        "elasticnet_real = y_test[:100]\n",
        "dataset_en = pd.DataFrame({'Real':elasticnet_real,'PredictedEN':elasticnet_pred})"
      ],
      "execution_count": null,
      "outputs": []
    },
    {
      "cell_type": "code",
      "metadata": {
        "id": "YBIXxWebkme4"
      },
      "source": [
        "dataset_en['diff']=(dataset_en['Real']-dataset_en['PredictedEN']).abs()"
      ],
      "execution_count": null,
      "outputs": []
    },
    {
      "cell_type": "code",
      "metadata": {
        "colab": {
          "base_uri": "https://localhost:8080/",
          "height": 173
        },
        "id": "bUsiPDoFTM_a",
        "outputId": "1b69e1e4-b8c5-4ca2-b759-97c593350bb2"
      },
      "source": [
        "dataset_en.sample(4)"
      ],
      "execution_count": null,
      "outputs": [
        {
          "output_type": "execute_result",
          "data": {
            "text/html": [
              "<div>\n",
              "<style scoped>\n",
              "    .dataframe tbody tr th:only-of-type {\n",
              "        vertical-align: middle;\n",
              "    }\n",
              "\n",
              "    .dataframe tbody tr th {\n",
              "        vertical-align: top;\n",
              "    }\n",
              "\n",
              "    .dataframe thead th {\n",
              "        text-align: right;\n",
              "    }\n",
              "</style>\n",
              "<table border=\"1\" class=\"dataframe\">\n",
              "  <thead>\n",
              "    <tr style=\"text-align: right;\">\n",
              "      <th></th>\n",
              "      <th>Real</th>\n",
              "      <th>PredictedEN</th>\n",
              "      <th>diff</th>\n",
              "    </tr>\n",
              "  </thead>\n",
              "  <tbody>\n",
              "    <tr>\n",
              "      <th>486719</th>\n",
              "      <td>10346</td>\n",
              "      <td>12351.984297</td>\n",
              "      <td>2005.984297</td>\n",
              "    </tr>\n",
              "    <tr>\n",
              "      <th>265775</th>\n",
              "      <td>6675</td>\n",
              "      <td>6212.648192</td>\n",
              "      <td>462.351808</td>\n",
              "    </tr>\n",
              "    <tr>\n",
              "      <th>458299</th>\n",
              "      <td>3730</td>\n",
              "      <td>4560.571254</td>\n",
              "      <td>830.571254</td>\n",
              "    </tr>\n",
              "    <tr>\n",
              "      <th>520084</th>\n",
              "      <td>5726</td>\n",
              "      <td>5729.511190</td>\n",
              "      <td>3.511190</td>\n",
              "    </tr>\n",
              "  </tbody>\n",
              "</table>\n",
              "</div>"
            ],
            "text/plain": [
              "         Real   PredictedEN         diff\n",
              "486719  10346  12351.984297  2005.984297\n",
              "265775   6675   6212.648192   462.351808\n",
              "458299   3730   4560.571254   830.571254\n",
              "520084   5726   5729.511190     3.511190"
            ]
          },
          "metadata": {
            "tags": []
          },
          "execution_count": 129
        }
      ]
    },
    {
      "cell_type": "code",
      "metadata": {
        "colab": {
          "base_uri": "https://localhost:8080/"
        },
        "id": "sAIFkQP6Hi6U",
        "outputId": "03b840c0-3b77-4fa5-f265-9cf1b989870f"
      },
      "source": [
        "from sklearn import metrics\n",
        "\n",
        "print('MAE:', metrics.mean_absolute_error(y_test, y_pred_en))\n",
        "print('MSE:', metrics.mean_squared_error(y_test, y_pred_en))\n",
        "print('RMSE:', np.sqrt(metrics.mean_squared_error(y_test, y_pred_en)))\n",
        "\n",
        "en_mae= metrics.mean_absolute_error(y_test, y_pred_en)\n"
      ],
      "execution_count": null,
      "outputs": [
        {
          "output_type": "stream",
          "text": [
            "MAE: 998.7285760385228\n",
            "MSE: 1896824.703493287\n",
            "RMSE: 1377.2525924801475\n"
          ],
          "name": "stdout"
        }
      ]
    },
    {
      "cell_type": "code",
      "metadata": {
        "colab": {
          "base_uri": "https://localhost:8080/",
          "height": 383
        },
        "id": "sBjqpZ8cX2YJ",
        "outputId": "04d733ae-b1f5-4662-e503-d24fd7bc3e29"
      },
      "source": [
        "sns.lmplot(x='Real', y='PredictedEN', data=dataset_en, line_kws={'color': 'red'});"
      ],
      "execution_count": null,
      "outputs": [
        {
          "output_type": "display_data",
          "data": {
            "image/png": "[encoded data removed]",
            "text/plain": [
              "<Figure size 360x360 with 1 Axes>"
            ]
          },
          "metadata": {
            "tags": []
          }
        }
      ]
    },
    {
      "cell_type": "code",
      "metadata": {
        "id": "s9-wieXJgKCG"
      },
      "source": [
        "from sklearn.ensemble import RandomForestRegressor"
      ],
      "execution_count": null,
      "outputs": []
    },
    {
      "cell_type": "code",
      "metadata": {
        "id": "LFgORdn1bcvn",
        "colab": {
          "base_uri": "https://localhost:8080/"
        },
        "outputId": "fdd0d01b-44cd-406c-ecfc-6a8503cc01d4"
      },
      "source": [
        " #RandomizedSearchCV\n",
        " %%time\n",
        "from sklearn.model_selection import RandomizedSearchCV \n",
        "#rf_grid= {\"n_estimators\": np.arange(10,100,10),\n",
        "#         \"max_depth\": [None, 3,5,10],\n",
        "#         \"min_samples_split\": np.arange(2,20,2),\n",
        "#        \"min_samples_leaf\": np.arange(1,20,2),\n",
        "#        \"max_features\": [0.5,1,\"sqrt\",\"auto\"],\n",
        "#      \"max_samples\": [200000]}\n",
        "\n",
        "\n",
        "#rs_model= RandomizedSearchCV(RandomForestRegressor(n_jobs=-1,random_state=42),param_distributions=rf_grid, n_iter=20,cv=5,verbose=True)\n",
        "\n",
        "#rs_model.fit(X_train,y_train)"
      ],
      "execution_count": null,
      "outputs": [
        {
          "output_type": "stream",
          "text": [
            "CPU times: user 15 µs, sys: 0 ns, total: 15 µs\n",
            "Wall time: 20 µs\n"
          ],
          "name": "stdout"
        }
      ]
    },
    {
      "cell_type": "markdown",
      "metadata": {
        "id": "C1mE4GQbKxdw"
      },
      "source": [
        "Fitting 5 folds for each of 20 candidates, totalling 100 fits\n",
        "\n",
        "[Parallel(n_jobs=1)]: Using backend SequentialBackend with 1 concurrent workers.\n",
        "\n",
        "[Parallel(n_jobs=1)]: Done 100 out of 100 | elapsed: 15.2min finished\n",
        "\n",
        "CPU times: user 2min 47s, sys: 4.42 s, total: 2min 52s\n",
        "Wall time: 16min"
      ]
    },
    {
      "cell_type": "code",
      "metadata": {
        "id": "eH66vOQjbcsx"
      },
      "source": [
        "#now we have trained model i can go and look for the best one "
      ],
      "execution_count": null,
      "outputs": []
    },
    {
      "cell_type": "code",
      "metadata": {
        "id": "uqmZvOlybcqf"
      },
      "source": [
        "#rs_model.best_params_"
      ],
      "execution_count": null,
      "outputs": []
    },
    {
      "cell_type": "markdown",
      "metadata": {
        "id": "8UoGWnZTK2Bl"
      },
      "source": [
        "{'max_depth': None,\n",
        " 'max_features': 'auto',\n",
        " 'max_samples': 200000,\n",
        " 'min_samples_leaf': 3,\n",
        " 'min_samples_split': 12,\n",
        " 'n_estimators': 50}"
      ]
    },
    {
      "cell_type": "code",
      "metadata": {
        "id": "tPo7VTzZvSRH",
        "colab": {
          "base_uri": "https://localhost:8080/"
        },
        "outputId": "1bb3457a-cb1e-45c4-dbc0-be54af89e58d"
      },
      "source": [
        "#taking best \n",
        "%%time\n",
        "ideal_model = RandomForestRegressor(n_estimators=50,\n",
        "                                    min_samples_leaf=3,\n",
        "                                    min_samples_split=12,\n",
        "                                    max_features='auto',\n",
        "                                    max_depth=None,\n",
        "                                    max_samples=200000,    \n",
        "                                    n_jobs=-1) #im changing max samples\n",
        "\n",
        "\n",
        "ideal_model.fit(X_train,y_train)"
      ],
      "execution_count": null,
      "outputs": [
        {
          "output_type": "stream",
          "text": [
            "CPU times: user 1min 53s, sys: 199 ms, total: 1min 53s\n",
            "Wall time: 58.3 s\n"
          ],
          "name": "stdout"
        }
      ]
    },
    {
      "cell_type": "code",
      "metadata": {
        "colab": {
          "base_uri": "https://localhost:8080/"
        },
        "id": "56emjjj8Nimx",
        "outputId": "9b8b4cc6-3936-4f0d-c318-c72b24f5ada7"
      },
      "source": [
        "print(\"Train Accuracy:\",ideal_model.score(X_train, y_train))\n",
        "print(\"Test Accuracy:\",ideal_model.score(X_test, y_test))"
      ],
      "execution_count": null,
      "outputs": [
        {
          "output_type": "stream",
          "text": [
            "Train Accuracy: 0.9738576285382028\n",
            "Test Accuracy: 0.9647319446341542\n"
          ],
          "name": "stdout"
        }
      ]
    },
    {
      "cell_type": "code",
      "metadata": {
        "id": "YtO_gQqxvUkm"
      },
      "source": [
        "final_predictions = ideal_model.predict( X_test)\n"
      ],
      "execution_count": null,
      "outputs": []
    },
    {
      "cell_type": "code",
      "metadata": {
        "id": "M8_avgPsDl7K",
        "colab": {
          "base_uri": "https://localhost:8080/"
        },
        "outputId": "bc33a855-1dd9-4b59-bac4-2e68d578d04b"
      },
      "source": [
        "final_predictions[:15]"
      ],
      "execution_count": null,
      "outputs": [
        {
          "output_type": "execute_result",
          "data": {
            "text/plain": [
              "array([ 7373.82274542,  5825.74815973,  3191.78238733,  9684.67749695,\n",
              "        6755.0310386 , 10569.7661559 , 14019.90122161,  9514.25272289,\n",
              "        6155.64500644, 10589.21824534,  6105.70597641,  8916.53738994,\n",
              "        7164.97009219,  6284.61492452,  2404.1028537 ])"
            ]
          },
          "metadata": {
            "tags": []
          },
          "execution_count": 86
        }
      ]
    },
    {
      "cell_type": "code",
      "metadata": {
        "id": "ij5PqeRlNjf9"
      },
      "source": [
        "rf_prd = final_predictions[:100]\n",
        "rf_real = y_test[:100]\n",
        "\n",
        "dataset_rf = pd.DataFrame({'Real':rf_real,'PredictedRF':rf_prd})"
      ],
      "execution_count": null,
      "outputs": []
    },
    {
      "cell_type": "code",
      "metadata": {
        "id": "H54CadQechq2"
      },
      "source": [
        "dataset_rf['diff']=(dataset_rf['Real']-dataset_rf['PredictedRF']).abs()\n"
      ],
      "execution_count": null,
      "outputs": []
    },
    {
      "cell_type": "code",
      "metadata": {
        "colab": {
          "base_uri": "https://localhost:8080/",
          "height": 173
        },
        "id": "7Qneo6qLMpsa",
        "outputId": "c8e08630-3a67-4e2b-b7c8-b524d8104600"
      },
      "source": [
        "dataset_rf.sample(4) # taking 4 sample"
      ],
      "execution_count": null,
      "outputs": [
        {
          "output_type": "execute_result",
          "data": {
            "text/html": [
              "<div>\n",
              "<style scoped>\n",
              "    .dataframe tbody tr th:only-of-type {\n",
              "        vertical-align: middle;\n",
              "    }\n",
              "\n",
              "    .dataframe tbody tr th {\n",
              "        vertical-align: top;\n",
              "    }\n",
              "\n",
              "    .dataframe thead th {\n",
              "        text-align: right;\n",
              "    }\n",
              "</style>\n",
              "<table border=\"1\" class=\"dataframe\">\n",
              "  <thead>\n",
              "    <tr style=\"text-align: right;\">\n",
              "      <th></th>\n",
              "      <th>Real</th>\n",
              "      <th>PredictedRF</th>\n",
              "      <th>diff</th>\n",
              "    </tr>\n",
              "  </thead>\n",
              "  <tbody>\n",
              "    <tr>\n",
              "      <th>508939</th>\n",
              "      <td>6442</td>\n",
              "      <td>6421.450261</td>\n",
              "      <td>20.549739</td>\n",
              "    </tr>\n",
              "    <tr>\n",
              "      <th>206960</th>\n",
              "      <td>9700</td>\n",
              "      <td>9561.341875</td>\n",
              "      <td>138.658125</td>\n",
              "    </tr>\n",
              "    <tr>\n",
              "      <th>628629</th>\n",
              "      <td>9752</td>\n",
              "      <td>9514.252723</td>\n",
              "      <td>237.747277</td>\n",
              "    </tr>\n",
              "    <tr>\n",
              "      <th>57587</th>\n",
              "      <td>4572</td>\n",
              "      <td>4231.533716</td>\n",
              "      <td>340.466284</td>\n",
              "    </tr>\n",
              "  </tbody>\n",
              "</table>\n",
              "</div>"
            ],
            "text/plain": [
              "        Real  PredictedRF        diff\n",
              "508939  6442  6421.450261   20.549739\n",
              "206960  9700  9561.341875  138.658125\n",
              "628629  9752  9514.252723  237.747277\n",
              "57587   4572  4231.533716  340.466284"
            ]
          },
          "metadata": {
            "tags": []
          },
          "execution_count": 111
        }
      ]
    },
    {
      "cell_type": "code",
      "metadata": {
        "colab": {
          "base_uri": "https://localhost:8080/",
          "height": 297
        },
        "id": "W9BY7bDqd8Ap",
        "outputId": "513657de-2238-48c6-e273-3b7c246968eb"
      },
      "source": [
        "dataset_rf.describe()"
      ],
      "execution_count": null,
      "outputs": [
        {
          "output_type": "execute_result",
          "data": {
            "text/html": [
              "<div>\n",
              "<style scoped>\n",
              "    .dataframe tbody tr th:only-of-type {\n",
              "        vertical-align: middle;\n",
              "    }\n",
              "\n",
              "    .dataframe tbody tr th {\n",
              "        vertical-align: top;\n",
              "    }\n",
              "\n",
              "    .dataframe thead th {\n",
              "        text-align: right;\n",
              "    }\n",
              "</style>\n",
              "<table border=\"1\" class=\"dataframe\">\n",
              "  <thead>\n",
              "    <tr style=\"text-align: right;\">\n",
              "      <th></th>\n",
              "      <th>Real</th>\n",
              "      <th>PredictedRF</th>\n",
              "      <th>diff</th>\n",
              "    </tr>\n",
              "  </thead>\n",
              "  <tbody>\n",
              "    <tr>\n",
              "      <th>count</th>\n",
              "      <td>100.000000</td>\n",
              "      <td>100.000000</td>\n",
              "      <td>100.000000</td>\n",
              "    </tr>\n",
              "    <tr>\n",
              "      <th>mean</th>\n",
              "      <td>7478.450000</td>\n",
              "      <td>7390.146910</td>\n",
              "      <td>408.305682</td>\n",
              "    </tr>\n",
              "    <tr>\n",
              "      <th>std</th>\n",
              "      <td>2889.991966</td>\n",
              "      <td>2809.174273</td>\n",
              "      <td>334.067543</td>\n",
              "    </tr>\n",
              "    <tr>\n",
              "      <th>min</th>\n",
              "      <td>2784.000000</td>\n",
              "      <td>2404.102854</td>\n",
              "      <td>19.537390</td>\n",
              "    </tr>\n",
              "    <tr>\n",
              "      <th>25%</th>\n",
              "      <td>5679.000000</td>\n",
              "      <td>5607.968327</td>\n",
              "      <td>138.199280</td>\n",
              "    </tr>\n",
              "    <tr>\n",
              "      <th>50%</th>\n",
              "      <td>6876.500000</td>\n",
              "      <td>6897.356721</td>\n",
              "      <td>310.774647</td>\n",
              "    </tr>\n",
              "    <tr>\n",
              "      <th>75%</th>\n",
              "      <td>9234.000000</td>\n",
              "      <td>8922.508107</td>\n",
              "      <td>562.271959</td>\n",
              "    </tr>\n",
              "    <tr>\n",
              "      <th>max</th>\n",
              "      <td>19320.000000</td>\n",
              "      <td>18027.726655</td>\n",
              "      <td>1414.251840</td>\n",
              "    </tr>\n",
              "  </tbody>\n",
              "</table>\n",
              "</div>"
            ],
            "text/plain": [
              "               Real   PredictedRF         diff\n",
              "count    100.000000    100.000000   100.000000\n",
              "mean    7478.450000   7390.146910   408.305682\n",
              "std     2889.991966   2809.174273   334.067543\n",
              "min     2784.000000   2404.102854    19.537390\n",
              "25%     5679.000000   5607.968327   138.199280\n",
              "50%     6876.500000   6897.356721   310.774647\n",
              "75%     9234.000000   8922.508107   562.271959\n",
              "max    19320.000000  18027.726655  1414.251840"
            ]
          },
          "metadata": {
            "tags": []
          },
          "execution_count": 112
        }
      ]
    },
    {
      "cell_type": "code",
      "metadata": {
        "colab": {
          "base_uri": "https://localhost:8080/",
          "height": 347
        },
        "id": "g1gsMffEP1Mq",
        "outputId": "91fc654e-d5b6-4f7c-8f10-d1b9fd22263a"
      },
      "source": [
        "#plotting\n",
        "plt.style.use('seaborn')\n",
        "dataset_rf.plot.hist(subplots=True, legend=False);\n"
      ],
      "execution_count": null,
      "outputs": [
        {
          "output_type": "display_data",
          "data": {
            "image/png": "[encoded data removed]",
            "text/plain": [
              "<Figure size 576x396 with 3 Axes>"
            ]
          },
          "metadata": {
            "tags": []
          }
        }
      ]
    },
    {
      "cell_type": "code",
      "metadata": {
        "colab": {
          "base_uri": "https://localhost:8080/",
          "height": 383
        },
        "id": "h9zhXzzQVkPh",
        "outputId": "db53319e-6d25-4f47-dddc-118b0ace5912"
      },
      "source": [
        "sns.lmplot(x='Real', y='PredictedRF', data=dataset_rf, line_kws={'color': 'red'});"
      ],
      "execution_count": null,
      "outputs": [
        {
          "output_type": "display_data",
          "data": {
            "image/png": "[encoded data removed]",
            "text/plain": [
              "<Figure size 360x360 with 1 Axes>"
            ]
          },
          "metadata": {
            "tags": []
          }
        }
      ]
    },
    {
      "cell_type": "code",
      "metadata": {
        "id": "wJPOuPLX4loG",
        "colab": {
          "base_uri": "https://localhost:8080/"
        },
        "outputId": "096b5635-d64c-469e-c579-5d92aeddee49"
      },
      "source": [
        "from sklearn import metrics\n",
        "\n",
        "print('MAE:', metrics.mean_absolute_error(y_test, final_predictions))\n",
        "print('MSE:', metrics.mean_squared_error(y_test, final_predictions))\n",
        "print('RMSE:', np.sqrt(metrics.mean_squared_error(y_test, final_predictions)))\n",
        "\n",
        "rf_mae= metrics.mean_absolute_error(y_test, final_predictions)\n"
      ],
      "execution_count": null,
      "outputs": [
        {
          "output_type": "stream",
          "text": [
            "MAE: 375.97339163562293\n",
            "MSE: 337136.1085457246\n",
            "RMSE: 580.6342295677414\n"
          ],
          "name": "stdout"
        }
      ]
    },
    {
      "cell_type": "code",
      "metadata": {
        "colab": {
          "base_uri": "https://localhost:8080/",
          "height": 582
        },
        "id": "bIr_Adv4bL1U",
        "outputId": "ae5eff34-574b-4487-ee65-6ca975ea90b4"
      },
      "source": [
        "sns.set_style(\"whitegrid\"), {'axes.grid' : False}\n",
        "f=sns.pairplot(dataset_rf)\n",
        "f.fig.set_size_inches(8,8);\n"
      ],
      "execution_count": null,
      "outputs": [
        {
          "output_type": "display_data",
          "data": {
            "image/png": "[encoded data removed]",
            "text/plain": [
              "<Figure size 576x576 with 12 Axes>"
            ]
          },
          "metadata": {
            "tags": []
          }
        }
      ]
    },
    {
      "cell_type": "code",
      "metadata": {
        "id": "rjU5miLdnWMB",
        "colab": {
          "base_uri": "https://localhost:8080/"
        },
        "outputId": "a07fe4c5-05ed-4561-bf3f-ced1a9668955"
      },
      "source": [
        "rf_mae,en_mae,ols_mae"
      ],
      "execution_count": 134,
      "outputs": [
        {
          "output_type": "execute_result",
          "data": {
            "text/plain": [
              "(375.97339163562293, 998.7285760385228, 972.0258276334025)"
            ]
          },
          "metadata": {
            "tags": []
          },
          "execution_count": 134
        }
      ]
    },
    {
      "cell_type": "code",
      "metadata": {
        "id": "JWzih5IunWJQ",
        "colab": {
          "base_uri": "https://localhost:8080/",
          "height": 357
        },
        "outputId": "96fd52aa-2b8a-4bbb-cbfa-a72eb5c271da"
      },
      "source": [
        "bar = pd.DataFrame(columns=list('OER'))\n",
        "bar.loc[0] = [972.0258,998.728,375.973]\n",
        "\n",
        "\n",
        "bar.plot(kind='bar')\n",
        "plt.xlabel(\"OLS,  ELASTIC NET,  RANDOM FOREST compaarision\")\n",
        "plt.ylabel(\"MEAN ABSOLUTE ERROR\")\n",
        "plt.show()"
      ],
      "execution_count": 159,
      "outputs": [
        {
          "output_type": "display_data",
          "data": {
            "image/png": "[encoded data removed]",
            "text/plain": [
              "<Figure size 576x396 with 1 Axes>"
            ]
          },
          "metadata": {
            "tags": []
          }
        }
      ]
    },
    {
      "cell_type": "code",
      "metadata": {
        "id": "b4aIAuYJnWGa"
      },
      "source": [
        ""
      ],
      "execution_count": null,
      "outputs": []
    },
    {
      "cell_type": "code",
      "metadata": {
        "id": "Z5JNrWqunV5D"
      },
      "source": [
        ""
      ],
      "execution_count": null,
      "outputs": []
    },
    {
      "cell_type": "code",
      "metadata": {
        "id": "wQzV9Y824lkb"
      },
      "source": [
        "#feature importance\n",
        "#ideal_model.feature_importances_\n",
        "#def plt_features(columns, importances,n=10):\n",
        " #   dfv= (pd.DataFrame({\"features\":columns,\n",
        "  #                      \"feature_importances\": importances})\n",
        "   #                 .sort_values(\"feature_importances\", ascending =False)\n",
        "    #                .reset_index(drop=True))\n",
        "\n",
        "\n"
      ],
      "execution_count": null,
      "outputs": []
    },
    {
      "cell_type": "code",
      "metadata": {
        "id": "EWr7VRdkUgVp"
      },
      "source": [
        "ideal_model.feature_importances_"
      ],
      "execution_count": null,
      "outputs": []
    },
    {
      "cell_type": "code",
      "metadata": {
        "id": "_LlzSh_XXDB-"
      },
      "source": [
        "#!pip install tensorflow\n",
        "#!pip install shap\n",
        "#!pip install seaborn"
      ],
      "execution_count": null,
      "outputs": []
    },
    {
      "cell_type": "code",
      "metadata": {
        "id": "BBftIfhaVJkQ"
      },
      "source": [
        "#import shap\n",
        "#explainer = shap.TreeExplainer(ideal_model)\n",
        "#shap_values = explainer.shap_values(X_test)\n",
        "#shap.summary_plot(shap_values, X_test, plot_type=\"bar\")"
      ],
      "execution_count": null,
      "outputs": []
    },
    {
      "cell_type": "code",
      "metadata": {
        "id": "HQU6IDUCvUhg"
      },
      "source": [
        ""
      ],
      "execution_count": null,
      "outputs": []
    },
    {
      "cell_type": "code",
      "metadata": {
        "id": "nnYnymApvUeT"
      },
      "source": [
        ""
      ],
      "execution_count": null,
      "outputs": []
    },
    {
      "cell_type": "code",
      "metadata": {
        "id": "WmZNA_kfvUbk"
      },
      "source": [
        ""
      ],
      "execution_count": null,
      "outputs": []
    }
  ]
}